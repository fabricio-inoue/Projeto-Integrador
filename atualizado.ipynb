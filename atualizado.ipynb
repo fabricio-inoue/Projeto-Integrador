{
  "cells": [
    {
      "cell_type": "code",
      "execution_count": 1,
      "metadata": {
        "id": "DTPEM4tPpei8"
      },
      "outputs": [
        {
          "name": "stderr",
          "output_type": "stream",
          "text": [
            "c:\\Users\\fabri\\AppData\\Local\\Programs\\Python\\Python311\\Lib\\site-packages\\tqdm\\auto.py:21: TqdmWarning: IProgress not found. Please update jupyter and ipywidgets. See https://ipywidgets.readthedocs.io/en/stable/user_install.html\n",
            "  from .autonotebook import tqdm as notebook_tqdm\n"
          ]
        }
      ],
      "source": [
        "import pandas as pd\n",
        "import json\n",
        "import requests\n",
        "import yfinance as yf\n",
        "import seaborn as sns\n",
        "import matplotlib.pyplot as plt\n",
        "from prophet import Prophet\n",
        "import asyncio\n",
        "from dash import Dash, html, dash_table, dcc\n",
        "import datetime\n",
        "import time\n",
        "import os\n"
      ]
    },
    {
      "cell_type": "code",
      "execution_count": 2,
      "metadata": {
        "id": "DoFlqEJNpei9"
      },
      "outputs": [],
      "source": [
        "nasdaq = pd.read_html('Quotes For Nasdaq-100 Index _ Nasdaq.html')[0]"
      ]
    },
    {
      "cell_type": "code",
      "execution_count": 3,
      "metadata": {
        "id": "APHsIKfLpei-"
      },
      "outputs": [],
      "source": [
        "# Função para prever o preço de uma ação\n",
        "\n",
        "\n",
        "# Com dados de teste 80/20\n",
        "# 100% reais, tentar prever 20% desses dados já obtidos, para avaliar a precisão do modelo\n",
        "def forecast_prophet(ds, y):\n",
        "    data = {'ds': ds, 'y': y}\n",
        "    df = pd.DataFrame(data)\n",
        "\n",
        "    # Dividindo os dados em 80/20\n",
        "    split_index = int(len(df) * 0.8)\n",
        "    train_data = df[:split_index]\n",
        "    test_data = df[split_index:]\n",
        "\n",
        "    # Instanciando o modelo Prophet\n",
        "    model = Prophet()\n",
        "\n",
        "    # Ajustando o modelo aos dados de treinamento\n",
        "    model.fit(train_data)\n",
        "\n",
        "    # Criando um dataframe com datas futuras para prever (20%)\n",
        "    future = model.make_future_dataframe(periods=int(len(df) * 0.2))\n",
        "\n",
        "    # Fazendo previsões\n",
        "    forecast = model.predict(future)\n",
        "\n",
        "\n",
        "    return forecast\n",
        "\n",
        "\n",
        "# Sem dados de teste 80/20\n",
        "# 80% reais e 20% futuros\n",
        "def forecast_prophet(ds, y):\n",
        "    data = {'ds': ds, 'y': y}\n",
        "    df = pd.DataFrame(data)\n",
        "\n",
        "    # Instanciando o modelo Prophet\n",
        "    model = Prophet()\n",
        "    # Ajustando o modelo aos dados de treinamento\n",
        "    model.fit(df)\n",
        "\n",
        "    # Criando um dataframe com datas futuras para prever (20%)\n",
        "    future = model.make_future_dataframe(periods=int(round(len(data['ds']) *0.2)), freq='D')\n",
        "    forecast = model.predict(future)\n",
        "\n",
        "    return forecast\n"
      ]
    },
    {
      "cell_type": "code",
      "execution_count": 4,
      "metadata": {
        "id": "Tjr_XfT2pei-"
      },
      "outputs": [],
      "source": [
        "def get_stock_data(ticker, period=None):\n",
        "    if period:\n",
        "        stock_data =  yf.download(ticker, period=\"10y\")\n",
        "    else:\n",
        "        stock_data =  yf.download(ticker)\n",
        "    return stock_data\n",
        "\n",
        "def save_forecast_data(symbol, forecast):\n",
        "    forecast.to_json(f\"prophet-predictions/{symbol}-forecast.json\", orient='records')"
      ]
    },
    {
      "cell_type": "code",
      "execution_count": 5,
      "metadata": {
        "id": "PyGIlGEipei_"
      },
      "outputs": [],
      "source": [
        "def main(tickers):\n",
        "    for ticker in tickers:\n",
        "        try:\n",
        "            stock = get_stock_data(ticker)\n",
        "            # Supondo que 'stock' seja seu DataFrame e contenha uma coluna 'Close'\n",
        "            # Primeiro, vamos calcular os retornos diários\n",
        "            stock['Return'] = stock['Close'].pct_change()\n",
        "\n",
        "            # Em seguida, calculamos o retorno acumulado\n",
        "            stock['Acc_Return'] = (1 + stock['Return']).cumprod() - 1\n",
        "            forecast = forecast_prophet(stock.index, stock['Acc_Return'])\n",
        "            save_forecast_data(ticker, forecast)\n",
        "            print(f\"Saved forecast for {ticker}\")\n",
        "\n",
        "        except Exception as e:\n",
        "            print(f\"Error: {e}\")"
      ]
    },
    {
      "cell_type": "code",
      "execution_count": 6,
      "metadata": {
        "colab": {
          "base_uri": "https://localhost:8080/",
          "height": 1000
        },
        "id": "lcWw1rrWpei_",
        "outputId": "6b60cc28-922e-413e-dcd7-85c119a7ed83"
      },
      "outputs": [
        {
          "name": "stderr",
          "output_type": "stream",
          "text": [
            "[*********************100%%**********************]  1 of 1 completed\n",
            "09:23:14 - cmdstanpy - INFO - Chain [1] start processing\n",
            "09:23:25 - cmdstanpy - INFO - Chain [1] done processing\n"
          ]
        },
        {
          "name": "stdout",
          "output_type": "stream",
          "text": [
            "Saved forecast for AAPL\n"
          ]
        },
        {
          "name": "stderr",
          "output_type": "stream",
          "text": [
            "[*********************100%%**********************]  1 of 1 completed\n",
            "09:23:29 - cmdstanpy - INFO - Chain [1] start processing\n",
            "09:23:29 - cmdstanpy - INFO - Chain [1] done processing\n"
          ]
        },
        {
          "name": "stdout",
          "output_type": "stream",
          "text": [
            "Saved forecast for ABNB\n"
          ]
        },
        {
          "name": "stderr",
          "output_type": "stream",
          "text": [
            "[*********************100%%**********************]  1 of 1 completed\n",
            "09:23:33 - cmdstanpy - INFO - Chain [1] start processing\n",
            "09:23:38 - cmdstanpy - INFO - Chain [1] done processing\n"
          ]
        },
        {
          "name": "stdout",
          "output_type": "stream",
          "text": [
            "Saved forecast for ADBE\n"
          ]
        },
        {
          "name": "stderr",
          "output_type": "stream",
          "text": [
            "[*********************100%%**********************]  1 of 1 completed\n",
            "09:23:45 - cmdstanpy - INFO - Chain [1] start processing\n",
            "09:23:57 - cmdstanpy - INFO - Chain [1] done processing\n"
          ]
        },
        {
          "name": "stdout",
          "output_type": "stream",
          "text": [
            "Saved forecast for ADI\n"
          ]
        },
        {
          "name": "stderr",
          "output_type": "stream",
          "text": [
            "[*********************100%%**********************]  1 of 1 completed\n",
            "09:24:10 - cmdstanpy - INFO - Chain [1] start processing\n",
            "09:24:19 - cmdstanpy - INFO - Chain [1] done processing\n"
          ]
        },
        {
          "name": "stdout",
          "output_type": "stream",
          "text": [
            "Saved forecast for ADP\n"
          ]
        },
        {
          "name": "stderr",
          "output_type": "stream",
          "text": [
            "[*********************100%%**********************]  1 of 1 completed\n",
            "09:24:31 - cmdstanpy - INFO - Chain [1] start processing\n",
            "09:24:36 - cmdstanpy - INFO - Chain [1] done processing\n"
          ]
        },
        {
          "name": "stdout",
          "output_type": "stream",
          "text": [
            "Saved forecast for ADSK\n"
          ]
        },
        {
          "name": "stderr",
          "output_type": "stream",
          "text": [
            "[*********************100%%**********************]  1 of 1 completed\n",
            "09:24:52 - cmdstanpy - INFO - Chain [1] start processing\n",
            "09:25:08 - cmdstanpy - INFO - Chain [1] done processing\n"
          ]
        },
        {
          "name": "stdout",
          "output_type": "stream",
          "text": [
            "Saved forecast for AEP\n"
          ]
        },
        {
          "name": "stderr",
          "output_type": "stream",
          "text": [
            "[*********************100%%**********************]  1 of 1 completed\n",
            "09:25:23 - cmdstanpy - INFO - Chain [1] start processing\n",
            "09:25:36 - cmdstanpy - INFO - Chain [1] done processing\n"
          ]
        },
        {
          "name": "stdout",
          "output_type": "stream",
          "text": [
            "Saved forecast for AMAT\n"
          ]
        },
        {
          "name": "stderr",
          "output_type": "stream",
          "text": [
            "[*********************100%%**********************]  1 of 1 completed\n",
            "09:25:52 - cmdstanpy - INFO - Chain [1] start processing\n",
            "09:26:01 - cmdstanpy - INFO - Chain [1] done processing\n"
          ]
        },
        {
          "name": "stdout",
          "output_type": "stream",
          "text": [
            "Saved forecast for AMD\n"
          ]
        },
        {
          "name": "stderr",
          "output_type": "stream",
          "text": [
            "[*********************100%%**********************]  1 of 1 completed\n",
            "09:26:16 - cmdstanpy - INFO - Chain [1] start processing\n",
            "09:26:27 - cmdstanpy - INFO - Chain [1] done processing\n"
          ]
        },
        {
          "name": "stdout",
          "output_type": "stream",
          "text": [
            "Saved forecast for AMGN\n"
          ]
        },
        {
          "name": "stderr",
          "output_type": "stream",
          "text": [
            "[*********************100%%**********************]  1 of 1 completed\n",
            "09:26:39 - cmdstanpy - INFO - Chain [1] start processing\n",
            "09:26:43 - cmdstanpy - INFO - Chain [1] done processing\n"
          ]
        },
        {
          "name": "stdout",
          "output_type": "stream",
          "text": [
            "Saved forecast for AMZN\n"
          ]
        },
        {
          "name": "stderr",
          "output_type": "stream",
          "text": [
            "[*********************100%%**********************]  1 of 1 completed\n",
            "09:26:58 - cmdstanpy - INFO - Chain [1] start processing\n",
            "09:27:02 - cmdstanpy - INFO - Chain [1] done processing\n"
          ]
        },
        {
          "name": "stdout",
          "output_type": "stream",
          "text": [
            "Saved forecast for ANSS\n"
          ]
        },
        {
          "name": "stderr",
          "output_type": "stream",
          "text": [
            "[*********************100%%**********************]  1 of 1 completed\n",
            "09:27:21 - cmdstanpy - INFO - Chain [1] start processing\n",
            "09:27:24 - cmdstanpy - INFO - Chain [1] done processing\n"
          ]
        },
        {
          "name": "stdout",
          "output_type": "stream",
          "text": [
            "Saved forecast for ASML\n"
          ]
        },
        {
          "name": "stderr",
          "output_type": "stream",
          "text": [
            "[*********************100%%**********************]  1 of 1 completed\n",
            "09:27:32 - cmdstanpy - INFO - Chain [1] start processing\n",
            "09:27:33 - cmdstanpy - INFO - Chain [1] done processing\n"
          ]
        },
        {
          "name": "stdout",
          "output_type": "stream",
          "text": [
            "Saved forecast for AVGO\n"
          ]
        },
        {
          "name": "stderr",
          "output_type": "stream",
          "text": [
            "[*********************100%%**********************]  1 of 1 completed\n",
            "09:27:43 - cmdstanpy - INFO - Chain [1] start processing\n",
            "09:27:48 - cmdstanpy - INFO - Chain [1] done processing\n"
          ]
        },
        {
          "name": "stdout",
          "output_type": "stream",
          "text": [
            "Saved forecast for AZN\n"
          ]
        },
        {
          "name": "stderr",
          "output_type": "stream",
          "text": [
            "[*********************100%%**********************]  1 of 1 completed\n",
            "09:28:05 - cmdstanpy - INFO - Chain [1] start processing\n",
            "09:28:13 - cmdstanpy - INFO - Chain [1] done processing\n"
          ]
        },
        {
          "name": "stdout",
          "output_type": "stream",
          "text": [
            "Saved forecast for BIIB\n"
          ]
        },
        {
          "name": "stderr",
          "output_type": "stream",
          "text": [
            "[*********************100%%**********************]  1 of 1 completed\n",
            "09:28:31 - cmdstanpy - INFO - Chain [1] start processing\n",
            "09:28:36 - cmdstanpy - INFO - Chain [1] done processing\n"
          ]
        },
        {
          "name": "stdout",
          "output_type": "stream",
          "text": [
            "Saved forecast for BKNG\n"
          ]
        },
        {
          "name": "stderr",
          "output_type": "stream",
          "text": [
            "[*********************100%%**********************]  1 of 1 completed\n",
            "\n",
            "1 Failed download:\n",
            "['BKR']: ConnectionError(ReadTimeoutError(\"HTTPSConnectionPool(host='query2.finance.yahoo.com', port=443): Read timed out.\"))\n"
          ]
        },
        {
          "name": "stdout",
          "output_type": "stream",
          "text": [
            "Error: Dataframe has less than 2 non-NaN rows.\n"
          ]
        },
        {
          "name": "stderr",
          "output_type": "stream",
          "text": [
            "[*********************100%%**********************]  1 of 1 completed\n",
            "09:29:30 - cmdstanpy - INFO - Chain [1] start processing\n",
            "09:29:38 - cmdstanpy - INFO - Chain [1] done processing\n"
          ]
        },
        {
          "name": "stdout",
          "output_type": "stream",
          "text": [
            "Saved forecast for CCEP\n"
          ]
        },
        {
          "name": "stderr",
          "output_type": "stream",
          "text": [
            "[*********************100%%**********************]  1 of 1 completed\n",
            "09:29:47 - cmdstanpy - INFO - Chain [1] start processing\n",
            "09:29:54 - cmdstanpy - INFO - Chain [1] done processing\n"
          ]
        },
        {
          "name": "stdout",
          "output_type": "stream",
          "text": [
            "Saved forecast for CDNS\n"
          ]
        },
        {
          "name": "stderr",
          "output_type": "stream",
          "text": [
            "[*********************100%%**********************]  1 of 1 completed\n",
            "09:30:00 - cmdstanpy - INFO - Chain [1] start processing\n",
            "09:30:02 - cmdstanpy - INFO - Chain [1] done processing\n"
          ]
        },
        {
          "name": "stdout",
          "output_type": "stream",
          "text": [
            "Saved forecast for CDW\n"
          ]
        },
        {
          "name": "stderr",
          "output_type": "stream",
          "text": [
            "[*********************100%%**********************]  1 of 1 completed\n",
            "09:30:05 - cmdstanpy - INFO - Chain [1] start processing\n",
            "09:30:05 - cmdstanpy - INFO - Chain [1] done processing\n"
          ]
        },
        {
          "name": "stdout",
          "output_type": "stream",
          "text": [
            "Saved forecast for CEG\n"
          ]
        },
        {
          "name": "stderr",
          "output_type": "stream",
          "text": [
            "[*********************100%%**********************]  1 of 1 completed\n",
            "09:30:08 - cmdstanpy - INFO - Chain [1] start processing\n",
            "09:30:09 - cmdstanpy - INFO - Chain [1] done processing\n"
          ]
        },
        {
          "name": "stdout",
          "output_type": "stream",
          "text": [
            "Saved forecast for CHTR\n"
          ]
        },
        {
          "name": "stderr",
          "output_type": "stream",
          "text": [
            "[*********************100%%**********************]  1 of 1 completed\n",
            "09:30:26 - cmdstanpy - INFO - Chain [1] start processing\n",
            "09:30:35 - cmdstanpy - INFO - Chain [1] done processing\n"
          ]
        },
        {
          "name": "stdout",
          "output_type": "stream",
          "text": [
            "Saved forecast for CMCSA\n"
          ]
        },
        {
          "name": "stderr",
          "output_type": "stream",
          "text": [
            "[*********************100%%**********************]  1 of 1 completed\n",
            "09:30:44 - cmdstanpy - INFO - Chain [1] start processing\n",
            "09:30:53 - cmdstanpy - INFO - Chain [1] done processing\n"
          ]
        },
        {
          "name": "stdout",
          "output_type": "stream",
          "text": [
            "Saved forecast for COST\n"
          ]
        },
        {
          "name": "stderr",
          "output_type": "stream",
          "text": [
            "[*********************100%%**********************]  1 of 1 completed\n",
            "09:31:03 - cmdstanpy - INFO - Chain [1] start processing\n",
            "09:31:07 - cmdstanpy - INFO - Chain [1] done processing\n"
          ]
        },
        {
          "name": "stdout",
          "output_type": "stream",
          "text": [
            "Saved forecast for CPRT\n"
          ]
        },
        {
          "name": "stderr",
          "output_type": "stream",
          "text": [
            "[*********************100%%**********************]  1 of 1 completed\n",
            "09:31:11 - cmdstanpy - INFO - Chain [1] start processing\n",
            "09:31:11 - cmdstanpy - INFO - Chain [1] done processing\n"
          ]
        },
        {
          "name": "stdout",
          "output_type": "stream",
          "text": [
            "Saved forecast for CRWD\n"
          ]
        },
        {
          "name": "stderr",
          "output_type": "stream",
          "text": [
            "[*********************100%%**********************]  1 of 1 completed\n",
            "09:31:23 - cmdstanpy - INFO - Chain [1] start processing\n",
            "09:31:32 - cmdstanpy - INFO - Chain [1] done processing\n"
          ]
        },
        {
          "name": "stdout",
          "output_type": "stream",
          "text": [
            "Saved forecast for CSCO\n"
          ]
        },
        {
          "name": "stderr",
          "output_type": "stream",
          "text": [
            "[*********************100%%**********************]  1 of 1 completed\n",
            "09:31:48 - cmdstanpy - INFO - Chain [1] start processing\n",
            "09:31:52 - cmdstanpy - INFO - Chain [1] done processing\n"
          ]
        },
        {
          "name": "stdout",
          "output_type": "stream",
          "text": [
            "Saved forecast for CSGP\n"
          ]
        },
        {
          "name": "stderr",
          "output_type": "stream",
          "text": [
            "[*********************100%%**********************]  1 of 1 completed\n",
            "09:32:10 - cmdstanpy - INFO - Chain [1] start processing\n",
            "09:32:18 - cmdstanpy - INFO - Chain [1] done processing\n"
          ]
        },
        {
          "name": "stdout",
          "output_type": "stream",
          "text": [
            "Saved forecast for CSX\n"
          ]
        },
        {
          "name": "stderr",
          "output_type": "stream",
          "text": [
            "[*********************100%%**********************]  1 of 1 completed\n",
            "09:32:27 - cmdstanpy - INFO - Chain [1] start processing\n",
            "09:32:37 - cmdstanpy - INFO - Chain [1] done processing\n"
          ]
        },
        {
          "name": "stdout",
          "output_type": "stream",
          "text": [
            "Saved forecast for CTAS\n"
          ]
        },
        {
          "name": "stderr",
          "output_type": "stream",
          "text": [
            "[*********************100%%**********************]  1 of 1 completed\n",
            "09:32:44 - cmdstanpy - INFO - Chain [1] start processing\n",
            "09:32:50 - cmdstanpy - INFO - Chain [1] done processing\n"
          ]
        },
        {
          "name": "stdout",
          "output_type": "stream",
          "text": [
            "Saved forecast for CTSH\n"
          ]
        },
        {
          "name": "stderr",
          "output_type": "stream",
          "text": [
            "[*********************100%%**********************]  1 of 1 completed\n",
            "09:32:53 - cmdstanpy - INFO - Chain [1] start processing\n",
            "09:32:54 - cmdstanpy - INFO - Chain [1] done processing\n"
          ]
        },
        {
          "name": "stdout",
          "output_type": "stream",
          "text": [
            "Saved forecast for DASH\n"
          ]
        },
        {
          "name": "stderr",
          "output_type": "stream",
          "text": [
            "[*********************100%%**********************]  1 of 1 completed\n",
            "09:32:57 - cmdstanpy - INFO - Chain [1] start processing\n",
            "09:32:57 - cmdstanpy - INFO - Chain [1] done processing\n"
          ]
        },
        {
          "name": "stdout",
          "output_type": "stream",
          "text": [
            "Saved forecast for DDOG\n"
          ]
        },
        {
          "name": "stderr",
          "output_type": "stream",
          "text": [
            "[*********************100%%**********************]  1 of 1 completed\n",
            "09:33:04 - cmdstanpy - INFO - Chain [1] start processing\n",
            "09:33:07 - cmdstanpy - INFO - Chain [1] done processing\n"
          ]
        },
        {
          "name": "stdout",
          "output_type": "stream",
          "text": [
            "Saved forecast for DLTR\n"
          ]
        },
        {
          "name": "stderr",
          "output_type": "stream",
          "text": [
            "[*********************100%%**********************]  1 of 1 completed\n",
            "09:33:20 - cmdstanpy - INFO - Chain [1] start processing\n",
            "09:33:23 - cmdstanpy - INFO - Chain [1] done processing\n"
          ]
        },
        {
          "name": "stdout",
          "output_type": "stream",
          "text": [
            "Saved forecast for DXCM\n"
          ]
        },
        {
          "name": "stderr",
          "output_type": "stream",
          "text": [
            "[*********************100%%**********************]  1 of 1 completed\n",
            "09:33:36 - cmdstanpy - INFO - Chain [1] start processing\n",
            "09:33:43 - cmdstanpy - INFO - Chain [1] done processing\n"
          ]
        },
        {
          "name": "stdout",
          "output_type": "stream",
          "text": [
            "Saved forecast for EA\n"
          ]
        },
        {
          "name": "stderr",
          "output_type": "stream",
          "text": [
            "[*********************100%%**********************]  1 of 1 completed\n",
            "09:34:07 - cmdstanpy - INFO - Chain [1] start processing\n",
            "09:34:21 - cmdstanpy - INFO - Chain [1] done processing\n"
          ]
        },
        {
          "name": "stdout",
          "output_type": "stream",
          "text": [
            "Saved forecast for EXC\n"
          ]
        },
        {
          "name": "stderr",
          "output_type": "stream",
          "text": [
            "[*********************100%%**********************]  1 of 1 completed\n",
            "09:34:30 - cmdstanpy - INFO - Chain [1] start processing\n",
            "09:34:31 - cmdstanpy - INFO - Chain [1] done processing\n"
          ]
        },
        {
          "name": "stdout",
          "output_type": "stream",
          "text": [
            "Saved forecast for FANG\n"
          ]
        },
        {
          "name": "stderr",
          "output_type": "stream",
          "text": [
            "[*********************100%%**********************]  1 of 1 completed\n",
            "09:34:44 - cmdstanpy - INFO - Chain [1] start processing\n",
            "09:34:51 - cmdstanpy - INFO - Chain [1] done processing\n"
          ]
        },
        {
          "name": "stdout",
          "output_type": "stream",
          "text": [
            "Saved forecast for FAST\n"
          ]
        },
        {
          "name": "stderr",
          "output_type": "stream",
          "text": [
            "[*********************100%%**********************]  1 of 1 completed\n",
            "09:35:00 - cmdstanpy - INFO - Chain [1] start processing\n",
            "09:35:03 - cmdstanpy - INFO - Chain [1] done processing\n"
          ]
        },
        {
          "name": "stdout",
          "output_type": "stream",
          "text": [
            "Saved forecast for FTNT\n"
          ]
        },
        {
          "name": "stderr",
          "output_type": "stream",
          "text": [
            "[*********************100%%**********************]  1 of 1 completed\n",
            "09:35:06 - cmdstanpy - INFO - Chain [1] start processing\n",
            "09:35:06 - cmdstanpy - INFO - Chain [1] done processing\n"
          ]
        },
        {
          "name": "stdout",
          "output_type": "stream",
          "text": [
            "Saved forecast for GEHC\n"
          ]
        },
        {
          "name": "stderr",
          "output_type": "stream",
          "text": [
            "[*********************100%%**********************]  1 of 1 completed\n",
            "09:35:09 - cmdstanpy - INFO - Chain [1] start processing\n",
            "09:35:09 - cmdstanpy - INFO - Chain [1] done processing\n"
          ]
        },
        {
          "name": "stdout",
          "output_type": "stream",
          "text": [
            "Saved forecast for GFS\n"
          ]
        },
        {
          "name": "stderr",
          "output_type": "stream",
          "text": [
            "[*********************100%%**********************]  1 of 1 completed\n",
            "09:35:19 - cmdstanpy - INFO - Chain [1] start processing\n",
            "09:35:27 - cmdstanpy - INFO - Chain [1] done processing\n"
          ]
        },
        {
          "name": "stdout",
          "output_type": "stream",
          "text": [
            "Saved forecast for GILD\n"
          ]
        },
        {
          "name": "stderr",
          "output_type": "stream",
          "text": [
            "[*********************100%%**********************]  1 of 1 completed\n",
            "09:35:43 - cmdstanpy - INFO - Chain [1] start processing\n",
            "09:35:46 - cmdstanpy - INFO - Chain [1] done processing\n"
          ]
        },
        {
          "name": "stdout",
          "output_type": "stream",
          "text": [
            "Saved forecast for GOOG\n"
          ]
        },
        {
          "name": "stderr",
          "output_type": "stream",
          "text": [
            "[*********************100%%**********************]  1 of 1 completed\n",
            "09:36:03 - cmdstanpy - INFO - Chain [1] start processing\n",
            "09:36:06 - cmdstanpy - INFO - Chain [1] done processing\n"
          ]
        },
        {
          "name": "stdout",
          "output_type": "stream",
          "text": [
            "Saved forecast for GOOGL\n"
          ]
        },
        {
          "name": "stderr",
          "output_type": "stream",
          "text": [
            "[*********************100%%**********************]  1 of 1 completed\n",
            "\n",
            "1 Failed download:\n",
            "['HON']: ReadTimeout(ReadTimeoutError(\"HTTPSConnectionPool(host='query2.finance.yahoo.com', port=443): Read timed out. (read timeout=10)\"))\n"
          ]
        },
        {
          "name": "stdout",
          "output_type": "stream",
          "text": [
            "Error: Dataframe has less than 2 non-NaN rows.\n"
          ]
        },
        {
          "name": "stderr",
          "output_type": "stream",
          "text": [
            "[*********************100%%**********************]  1 of 1 completed\n",
            "09:36:42 - cmdstanpy - INFO - Chain [1] start processing\n",
            "09:36:45 - cmdstanpy - INFO - Chain [1] done processing\n"
          ]
        },
        {
          "name": "stdout",
          "output_type": "stream",
          "text": [
            "Saved forecast for IDXX\n"
          ]
        },
        {
          "name": "stderr",
          "output_type": "stream",
          "text": [
            "[*********************100%%**********************]  1 of 1 completed\n",
            "09:36:58 - cmdstanpy - INFO - Chain [1] start processing\n",
            "09:37:02 - cmdstanpy - INFO - Chain [1] done processing\n"
          ]
        },
        {
          "name": "stdout",
          "output_type": "stream",
          "text": [
            "Saved forecast for ILMN\n"
          ]
        },
        {
          "name": "stderr",
          "output_type": "stream",
          "text": [
            "[*********************100%%**********************]  1 of 1 completed\n",
            "09:37:15 - cmdstanpy - INFO - Chain [1] start processing\n",
            "09:37:27 - cmdstanpy - INFO - Chain [1] done processing\n"
          ]
        },
        {
          "name": "stdout",
          "output_type": "stream",
          "text": [
            "Saved forecast for INTC\n"
          ]
        },
        {
          "name": "stderr",
          "output_type": "stream",
          "text": [
            "[*********************100%%**********************]  1 of 1 completed\n",
            "09:37:38 - cmdstanpy - INFO - Chain [1] start processing\n",
            "09:37:42 - cmdstanpy - INFO - Chain [1] done processing\n"
          ]
        },
        {
          "name": "stdout",
          "output_type": "stream",
          "text": [
            "Saved forecast for INTU\n"
          ]
        },
        {
          "name": "stderr",
          "output_type": "stream",
          "text": [
            "[*********************100%%**********************]  1 of 1 completed\n",
            "09:37:48 - cmdstanpy - INFO - Chain [1] start processing\n",
            "09:37:50 - cmdstanpy - INFO - Chain [1] done processing\n"
          ]
        },
        {
          "name": "stdout",
          "output_type": "stream",
          "text": [
            "Saved forecast for ISRG\n"
          ]
        },
        {
          "name": "stderr",
          "output_type": "stream",
          "text": [
            "[*********************100%%**********************]  1 of 1 completed\n",
            "09:37:56 - cmdstanpy - INFO - Chain [1] start processing\n",
            "09:37:59 - cmdstanpy - INFO - Chain [1] done processing\n"
          ]
        },
        {
          "name": "stdout",
          "output_type": "stream",
          "text": [
            "Saved forecast for KDP\n"
          ]
        },
        {
          "name": "stderr",
          "output_type": "stream",
          "text": [
            "[*********************100%%**********************]  1 of 1 completed\n",
            "09:38:02 - cmdstanpy - INFO - Chain [1] start processing\n",
            "09:38:03 - cmdstanpy - INFO - Chain [1] done processing\n"
          ]
        },
        {
          "name": "stdout",
          "output_type": "stream",
          "text": [
            "Saved forecast for KHC\n"
          ]
        },
        {
          "name": "stderr",
          "output_type": "stream",
          "text": [
            "[*********************100%%**********************]  1 of 1 completed\n",
            "09:38:10 - cmdstanpy - INFO - Chain [1] start processing\n",
            "09:38:18 - cmdstanpy - INFO - Chain [1] done processing\n"
          ]
        },
        {
          "name": "stdout",
          "output_type": "stream",
          "text": [
            "Saved forecast for KLAC\n"
          ]
        },
        {
          "name": "stderr",
          "output_type": "stream",
          "text": [
            "[*********************100%%**********************]  1 of 1 completed\n",
            "09:38:31 - cmdstanpy - INFO - Chain [1] start processing\n",
            "09:38:39 - cmdstanpy - INFO - Chain [1] done processing\n"
          ]
        },
        {
          "name": "stdout",
          "output_type": "stream",
          "text": [
            "Saved forecast for LIN\n"
          ]
        },
        {
          "name": "stderr",
          "output_type": "stream",
          "text": [
            "[*********************100%%**********************]  1 of 1 completed\n",
            "09:39:12 - cmdstanpy - INFO - Chain [1] start processing\n",
            "09:39:20 - cmdstanpy - INFO - Chain [1] done processing\n"
          ]
        },
        {
          "name": "stdout",
          "output_type": "stream",
          "text": [
            "Saved forecast for LRCX\n"
          ]
        },
        {
          "name": "stderr",
          "output_type": "stream",
          "text": [
            "[*********************100%%**********************]  1 of 1 completed\n",
            "09:39:32 - cmdstanpy - INFO - Chain [1] start processing\n",
            "09:39:34 - cmdstanpy - INFO - Chain [1] done processing\n"
          ]
        },
        {
          "name": "stdout",
          "output_type": "stream",
          "text": [
            "Saved forecast for LULU\n"
          ]
        },
        {
          "name": "stderr",
          "output_type": "stream",
          "text": [
            "[*********************100%%**********************]  1 of 1 completed\n",
            "09:39:44 - cmdstanpy - INFO - Chain [1] start processing\n",
            "09:39:50 - cmdstanpy - INFO - Chain [1] done processing\n"
          ]
        },
        {
          "name": "stdout",
          "output_type": "stream",
          "text": [
            "Saved forecast for MAR\n"
          ]
        },
        {
          "name": "stderr",
          "output_type": "stream",
          "text": [
            "[*********************100%%**********************]  1 of 1 completed\n",
            "09:40:04 - cmdstanpy - INFO - Chain [1] start processing\n",
            "09:40:10 - cmdstanpy - INFO - Chain [1] done processing\n"
          ]
        },
        {
          "name": "stdout",
          "output_type": "stream",
          "text": [
            "Saved forecast for MCHP\n"
          ]
        },
        {
          "name": "stderr",
          "output_type": "stream",
          "text": [
            "[*********************100%%**********************]  1 of 1 completed\n",
            "09:40:17 - cmdstanpy - INFO - Chain [1] start processing\n",
            "09:40:17 - cmdstanpy - INFO - Chain [1] done processing\n"
          ]
        },
        {
          "name": "stdout",
          "output_type": "stream",
          "text": [
            "Saved forecast for MDB\n"
          ]
        },
        {
          "name": "stderr",
          "output_type": "stream",
          "text": [
            "[*********************100%%**********************]  1 of 1 completed\n",
            "09:40:23 - cmdstanpy - INFO - Chain [1] start processing\n",
            "09:40:29 - cmdstanpy - INFO - Chain [1] done processing\n"
          ]
        },
        {
          "name": "stdout",
          "output_type": "stream",
          "text": [
            "Saved forecast for MDLZ\n"
          ]
        },
        {
          "name": "stderr",
          "output_type": "stream",
          "text": [
            "[*********************100%%**********************]  1 of 1 completed\n",
            "09:40:35 - cmdstanpy - INFO - Chain [1] start processing\n",
            "09:40:37 - cmdstanpy - INFO - Chain [1] done processing\n"
          ]
        },
        {
          "name": "stdout",
          "output_type": "stream",
          "text": [
            "Saved forecast for MELI\n"
          ]
        },
        {
          "name": "stderr",
          "output_type": "stream",
          "text": [
            "[*********************100%%**********************]  1 of 1 completed\n",
            "09:40:42 - cmdstanpy - INFO - Chain [1] start processing\n",
            "09:40:43 - cmdstanpy - INFO - Chain [1] done processing\n"
          ]
        },
        {
          "name": "stdout",
          "output_type": "stream",
          "text": [
            "Saved forecast for META\n"
          ]
        },
        {
          "name": "stderr",
          "output_type": "stream",
          "text": [
            "[*********************100%%**********************]  1 of 1 completed\n",
            "09:40:54 - cmdstanpy - INFO - Chain [1] start processing\n",
            "09:41:07 - cmdstanpy - INFO - Chain [1] done processing\n"
          ]
        },
        {
          "name": "stdout",
          "output_type": "stream",
          "text": [
            "Saved forecast for MNST\n"
          ]
        },
        {
          "name": "stderr",
          "output_type": "stream",
          "text": [
            "[*********************100%%**********************]  1 of 1 completed\n",
            "09:41:11 - cmdstanpy - INFO - Chain [1] start processing\n",
            "09:41:12 - cmdstanpy - INFO - Chain [1] done processing\n"
          ]
        },
        {
          "name": "stdout",
          "output_type": "stream",
          "text": [
            "Saved forecast for MRNA\n"
          ]
        },
        {
          "name": "stderr",
          "output_type": "stream",
          "text": [
            "[*********************100%%**********************]  1 of 1 completed\n",
            "09:41:18 - cmdstanpy - INFO - Chain [1] start processing\n",
            "09:41:21 - cmdstanpy - INFO - Chain [1] done processing\n"
          ]
        },
        {
          "name": "stdout",
          "output_type": "stream",
          "text": [
            "Saved forecast for MRVL\n"
          ]
        },
        {
          "name": "stderr",
          "output_type": "stream",
          "text": [
            "[*********************100%%**********************]  1 of 1 completed\n",
            "09:41:34 - cmdstanpy - INFO - Chain [1] start processing\n",
            "09:41:41 - cmdstanpy - INFO - Chain [1] done processing\n"
          ]
        },
        {
          "name": "stdout",
          "output_type": "stream",
          "text": [
            "Saved forecast for MSFT\n"
          ]
        },
        {
          "name": "stderr",
          "output_type": "stream",
          "text": [
            "[*********************100%%**********************]  1 of 1 completed\n",
            "09:41:57 - cmdstanpy - INFO - Chain [1] start processing\n",
            "09:42:10 - cmdstanpy - INFO - Chain [1] done processing\n"
          ]
        },
        {
          "name": "stdout",
          "output_type": "stream",
          "text": [
            "Saved forecast for MU\n"
          ]
        },
        {
          "name": "stderr",
          "output_type": "stream",
          "text": [
            "[*********************100%%**********************]  1 of 1 completed\n",
            "09:42:20 - cmdstanpy - INFO - Chain [1] start processing\n",
            "09:42:23 - cmdstanpy - INFO - Chain [1] done processing\n"
          ]
        },
        {
          "name": "stdout",
          "output_type": "stream",
          "text": [
            "Saved forecast for NFLX\n"
          ]
        },
        {
          "name": "stderr",
          "output_type": "stream",
          "text": [
            "[*********************100%%**********************]  1 of 1 completed\n",
            "09:42:33 - cmdstanpy - INFO - Chain [1] start processing\n",
            "09:42:37 - cmdstanpy - INFO - Chain [1] done processing\n"
          ]
        },
        {
          "name": "stdout",
          "output_type": "stream",
          "text": [
            "Saved forecast for NVDA\n"
          ]
        },
        {
          "name": "stderr",
          "output_type": "stream",
          "text": [
            "[*********************100%%**********************]  1 of 1 completed\n",
            "09:42:46 - cmdstanpy - INFO - Chain [1] start processing\n",
            "09:42:47 - cmdstanpy - INFO - Chain [1] done processing\n"
          ]
        },
        {
          "name": "stdout",
          "output_type": "stream",
          "text": [
            "Saved forecast for NXPI\n"
          ]
        },
        {
          "name": "stderr",
          "output_type": "stream",
          "text": [
            "[*********************100%%**********************]  1 of 1 completed\n",
            "09:43:11 - cmdstanpy - INFO - Chain [1] start processing\n",
            "09:43:17 - cmdstanpy - INFO - Chain [1] done processing\n"
          ]
        },
        {
          "name": "stdout",
          "output_type": "stream",
          "text": [
            "Saved forecast for ODFL\n"
          ]
        },
        {
          "name": "stderr",
          "output_type": "stream",
          "text": [
            "[*********************100%%**********************]  1 of 1 completed\n",
            "09:43:26 - cmdstanpy - INFO - Chain [1] start processing\n",
            "09:43:30 - cmdstanpy - INFO - Chain [1] done processing\n"
          ]
        },
        {
          "name": "stdout",
          "output_type": "stream",
          "text": [
            "Saved forecast for ON\n"
          ]
        },
        {
          "name": "stderr",
          "output_type": "stream",
          "text": [
            "[*********************100%%**********************]  1 of 1 completed\n",
            "09:43:38 - cmdstanpy - INFO - Chain [1] start processing\n",
            "09:43:44 - cmdstanpy - INFO - Chain [1] done processing\n"
          ]
        },
        {
          "name": "stdout",
          "output_type": "stream",
          "text": [
            "Saved forecast for ORLY\n"
          ]
        },
        {
          "name": "stderr",
          "output_type": "stream",
          "text": [
            "[*********************100%%**********************]  1 of 1 completed\n",
            "09:43:49 - cmdstanpy - INFO - Chain [1] start processing\n",
            "09:43:50 - cmdstanpy - INFO - Chain [1] done processing\n"
          ]
        },
        {
          "name": "stdout",
          "output_type": "stream",
          "text": [
            "Saved forecast for PANW\n"
          ]
        },
        {
          "name": "stderr",
          "output_type": "stream",
          "text": [
            "[*********************100%%**********************]  1 of 1 completed\n",
            "09:44:15 - cmdstanpy - INFO - Chain [1] start processing\n",
            "09:44:29 - cmdstanpy - INFO - Chain [1] done processing\n"
          ]
        },
        {
          "name": "stdout",
          "output_type": "stream",
          "text": [
            "Saved forecast for PAYX\n"
          ]
        },
        {
          "name": "stderr",
          "output_type": "stream",
          "text": [
            "[*********************100%%**********************]  1 of 1 completed\n",
            "09:44:43 - cmdstanpy - INFO - Chain [1] start processing\n",
            "09:44:54 - cmdstanpy - INFO - Chain [1] done processing\n"
          ]
        },
        {
          "name": "stdout",
          "output_type": "stream",
          "text": [
            "Saved forecast for PCAR\n"
          ]
        },
        {
          "name": "stderr",
          "output_type": "stream",
          "text": [
            "[*********************100%%**********************]  1 of 1 completed\n",
            "09:45:00 - cmdstanpy - INFO - Chain [1] start processing\n",
            "09:45:01 - cmdstanpy - INFO - Chain [1] done processing\n"
          ]
        },
        {
          "name": "stdout",
          "output_type": "stream",
          "text": [
            "Saved forecast for PDD\n"
          ]
        },
        {
          "name": "stderr",
          "output_type": "stream",
          "text": [
            "[*********************100%%**********************]  1 of 1 completed\n",
            "09:45:12 - cmdstanpy - INFO - Chain [1] start processing\n",
            "09:45:25 - cmdstanpy - INFO - Chain [1] done processing\n"
          ]
        },
        {
          "name": "stdout",
          "output_type": "stream",
          "text": [
            "Saved forecast for PEP\n"
          ]
        },
        {
          "name": "stderr",
          "output_type": "stream",
          "text": [
            "[*********************100%%**********************]  1 of 1 completed\n",
            "09:45:32 - cmdstanpy - INFO - Chain [1] start processing\n",
            "09:45:34 - cmdstanpy - INFO - Chain [1] done processing\n"
          ]
        },
        {
          "name": "stdout",
          "output_type": "stream",
          "text": [
            "Saved forecast for PYPL\n"
          ]
        },
        {
          "name": "stderr",
          "output_type": "stream",
          "text": [
            "[*********************100%%**********************]  1 of 1 completed\n",
            "09:45:53 - cmdstanpy - INFO - Chain [1] start processing\n",
            "09:45:59 - cmdstanpy - INFO - Chain [1] done processing\n"
          ]
        },
        {
          "name": "stdout",
          "output_type": "stream",
          "text": [
            "Saved forecast for QCOM\n"
          ]
        },
        {
          "name": "stderr",
          "output_type": "stream",
          "text": [
            "[*********************100%%**********************]  1 of 1 completed\n",
            "09:46:09 - cmdstanpy - INFO - Chain [1] start processing\n",
            "09:46:17 - cmdstanpy - INFO - Chain [1] done processing\n"
          ]
        },
        {
          "name": "stdout",
          "output_type": "stream",
          "text": [
            "Saved forecast for REGN\n"
          ]
        },
        {
          "name": "stderr",
          "output_type": "stream",
          "text": [
            "[*********************100%%**********************]  1 of 1 completed\n",
            "09:46:27 - cmdstanpy - INFO - Chain [1] start processing\n",
            "09:46:33 - cmdstanpy - INFO - Chain [1] done processing\n"
          ]
        },
        {
          "name": "stdout",
          "output_type": "stream",
          "text": [
            "Saved forecast for ROP\n"
          ]
        },
        {
          "name": "stderr",
          "output_type": "stream",
          "text": [
            "[*********************100%%**********************]  1 of 1 completed\n",
            "09:46:44 - cmdstanpy - INFO - Chain [1] start processing\n",
            "09:46:49 - cmdstanpy - INFO - Chain [1] done processing\n"
          ]
        },
        {
          "name": "stdout",
          "output_type": "stream",
          "text": [
            "Saved forecast for ROST\n"
          ]
        },
        {
          "name": "stderr",
          "output_type": "stream",
          "text": [
            "[*********************100%%**********************]  1 of 1 completed\n",
            "09:47:18 - cmdstanpy - INFO - Chain [1] start processing\n",
            "09:47:23 - cmdstanpy - INFO - Chain [1] done processing\n"
          ]
        },
        {
          "name": "stdout",
          "output_type": "stream",
          "text": [
            "Saved forecast for SBUX\n"
          ]
        },
        {
          "name": "stderr",
          "output_type": "stream",
          "text": [
            "[*********************100%%**********************]  1 of 1 completed\n",
            "09:47:31 - cmdstanpy - INFO - Chain [1] start processing\n",
            "09:47:38 - cmdstanpy - INFO - Chain [1] done processing\n"
          ]
        },
        {
          "name": "stdout",
          "output_type": "stream",
          "text": [
            "Saved forecast for SIRI\n"
          ]
        },
        {
          "name": "stderr",
          "output_type": "stream",
          "text": [
            "[*********************100%%**********************]  1 of 1 completed\n",
            "09:47:49 - cmdstanpy - INFO - Chain [1] start processing\n",
            "09:47:54 - cmdstanpy - INFO - Chain [1] done processing\n"
          ]
        },
        {
          "name": "stdout",
          "output_type": "stream",
          "text": [
            "Saved forecast for SNPS\n"
          ]
        },
        {
          "name": "stderr",
          "output_type": "stream",
          "text": [
            "[*********************100%%**********************]  1 of 1 completed\n",
            "09:47:59 - cmdstanpy - INFO - Chain [1] start processing\n",
            "09:48:00 - cmdstanpy - INFO - Chain [1] done processing\n"
          ]
        },
        {
          "name": "stdout",
          "output_type": "stream",
          "text": [
            "Saved forecast for TEAM\n"
          ]
        },
        {
          "name": "stderr",
          "output_type": "stream",
          "text": [
            "[*********************100%%**********************]  1 of 1 completed\n",
            "09:48:05 - cmdstanpy - INFO - Chain [1] start processing\n",
            "09:48:08 - cmdstanpy - INFO - Chain [1] done processing\n"
          ]
        },
        {
          "name": "stdout",
          "output_type": "stream",
          "text": [
            "Saved forecast for TMUS\n"
          ]
        },
        {
          "name": "stderr",
          "output_type": "stream",
          "text": [
            "[*********************100%%**********************]  1 of 1 completed\n",
            "09:48:16 - cmdstanpy - INFO - Chain [1] start processing\n",
            "09:48:17 - cmdstanpy - INFO - Chain [1] done processing\n"
          ]
        },
        {
          "name": "stdout",
          "output_type": "stream",
          "text": [
            "Saved forecast for TSLA\n"
          ]
        },
        {
          "name": "stderr",
          "output_type": "stream",
          "text": [
            "[*********************100%%**********************]  1 of 1 completed\n",
            "09:48:20 - cmdstanpy - INFO - Chain [1] start processing\n",
            "09:48:21 - cmdstanpy - INFO - Chain [1] done processing\n"
          ]
        },
        {
          "name": "stdout",
          "output_type": "stream",
          "text": [
            "Saved forecast for TTD\n"
          ]
        },
        {
          "name": "stderr",
          "output_type": "stream",
          "text": [
            "[*********************100%%**********************]  1 of 1 completed\n",
            "09:48:26 - cmdstanpy - INFO - Chain [1] start processing\n",
            "09:48:31 - cmdstanpy - INFO - Chain [1] done processing\n"
          ]
        },
        {
          "name": "stdout",
          "output_type": "stream",
          "text": [
            "Saved forecast for TTWO\n"
          ]
        },
        {
          "name": "stderr",
          "output_type": "stream",
          "text": [
            "[*********************100%%**********************]  1 of 1 completed\n",
            "09:48:39 - cmdstanpy - INFO - Chain [1] start processing\n",
            "09:48:55 - cmdstanpy - INFO - Chain [1] done processing\n"
          ]
        },
        {
          "name": "stdout",
          "output_type": "stream",
          "text": [
            "Saved forecast for TXN\n"
          ]
        },
        {
          "name": "stderr",
          "output_type": "stream",
          "text": [
            "[*********************100%%**********************]  1 of 1 completed\n",
            "09:49:02 - cmdstanpy - INFO - Chain [1] start processing\n",
            "09:49:03 - cmdstanpy - INFO - Chain [1] done processing\n"
          ]
        },
        {
          "name": "stdout",
          "output_type": "stream",
          "text": [
            "Saved forecast for VRSK\n"
          ]
        },
        {
          "name": "stderr",
          "output_type": "stream",
          "text": [
            "[*********************100%%**********************]  1 of 1 completed\n",
            "09:49:08 - cmdstanpy - INFO - Chain [1] start processing\n",
            "09:49:16 - cmdstanpy - INFO - Chain [1] done processing\n"
          ]
        },
        {
          "name": "stdout",
          "output_type": "stream",
          "text": [
            "Saved forecast for VRTX\n"
          ]
        },
        {
          "name": "stderr",
          "output_type": "stream",
          "text": [
            "[*********************100%%**********************]  1 of 1 completed\n",
            "09:49:29 - cmdstanpy - INFO - Chain [1] start processing\n",
            "09:49:39 - cmdstanpy - INFO - Chain [1] done processing\n"
          ]
        },
        {
          "name": "stdout",
          "output_type": "stream",
          "text": [
            "Saved forecast for WBA\n"
          ]
        },
        {
          "name": "stderr",
          "output_type": "stream",
          "text": [
            "[*********************100%%**********************]  1 of 1 completed\n",
            "09:49:46 - cmdstanpy - INFO - Chain [1] start processing\n",
            "09:49:49 - cmdstanpy - INFO - Chain [1] done processing\n"
          ]
        },
        {
          "name": "stdout",
          "output_type": "stream",
          "text": [
            "Saved forecast for WBD\n"
          ]
        },
        {
          "name": "stderr",
          "output_type": "stream",
          "text": [
            "[*********************100%%**********************]  1 of 1 completed\n",
            "09:49:53 - cmdstanpy - INFO - Chain [1] start processing\n",
            "09:49:54 - cmdstanpy - INFO - Chain [1] done processing\n"
          ]
        },
        {
          "name": "stdout",
          "output_type": "stream",
          "text": [
            "Saved forecast for WDAY\n"
          ]
        },
        {
          "name": "stderr",
          "output_type": "stream",
          "text": [
            "[*********************100%%**********************]  1 of 1 completed\n",
            "09:50:02 - cmdstanpy - INFO - Chain [1] start processing\n",
            "09:50:16 - cmdstanpy - INFO - Chain [1] done processing\n"
          ]
        },
        {
          "name": "stdout",
          "output_type": "stream",
          "text": [
            "Saved forecast for XEL\n"
          ]
        },
        {
          "name": "stderr",
          "output_type": "stream",
          "text": [
            "[*********************100%%**********************]  1 of 1 completed\n",
            "09:50:22 - cmdstanpy - INFO - Chain [1] start processing\n",
            "09:50:23 - cmdstanpy - INFO - Chain [1] done processing\n"
          ]
        },
        {
          "name": "stdout",
          "output_type": "stream",
          "text": [
            "Saved forecast for ZS\n"
          ]
        }
      ],
      "source": [
        "main(nasdaq.Symbol)"
      ]
    },
    {
      "cell_type": "code",
      "execution_count": 18,
      "metadata": {
        "id": "mwGPy0oFpei_"
      },
      "outputs": [],
      "source": [
        "#plota os gráficos das previsões junto aos dados reais\n",
        "\n",
        "def plot_predictions(ticker):\n",
        "\n",
        "\n",
        "    #pega os dados\n",
        "    stock = get_stock_data(ticker)\n",
        "\n",
        "\n",
        "    #prepara o retorno acumulado\n",
        "    stock['Return'] = stock['Close'].pct_change()\n",
        "    stock['Acc_Return'] = (1 + stock['Return']).cumprod() - 1\n",
        "\n",
        "    # preencher nan\n",
        "    stock.fillna(0, inplace=True)\n",
        "\n",
        "    #cria forecast\n",
        "    forecast = forecast_prophet(stock.index, stock['Acc_Return'])\n",
        "\n",
        "    #Plota gráfico\n",
        "    plt.figure(figsize=(10, 6))\n",
        "    plt.plot(pd.to_datetime(stock.index), stock['Acc_Return'], label='Actual', color='black')\n",
        "    plt.plot(pd.to_datetime(forecast['ds'], unit='ms'), forecast['yhat'], label='Predicted', color='blue')\n",
        "    plt.fill_between(pd.to_datetime(forecast['ds'], unit='ms'), forecast['yhat_lower'], forecast['yhat_upper'], color='lightblue', alpha=0.3)\n",
        "    plt.xlabel('Date')\n",
        "    plt.ylabel('Value')\n",
        "    plt.title(f'Predictions with Upper and Lower Bounds {ticker}')\n",
        "    plt.legend()\n",
        "    plt.grid(True)\n",
        "    plt.show()"
      ]
    },
    {
      "cell_type": "code",
      "execution_count": 20,
      "metadata": {
        "id": "uKeUe9yppejA"
      },
      "outputs": [
        {
          "name": "stderr",
          "output_type": "stream",
          "text": [
            "[*********************100%%**********************]  1 of 1 completed\n",
            "11:18:21 - cmdstanpy - INFO - Chain [1] start processing\n",
            "11:18:23 - cmdstanpy - INFO - Chain [1] done processing\n"
          ]
        },
        {
          "data": {
            "image/png": "[encoded data removed]",
            "text/plain": [
              "<Figure size 1000x600 with 1 Axes>"
            ]
          },
          "metadata": {},
          "output_type": "display_data"
        }
      ],
      "source": [
        "plot_predictions('GOOG')"
      ]
    },
    {
      "cell_type": "code",
      "execution_count": 9,
      "metadata": {
        "id": "lMoUf2r30WOi"
      },
      "outputs": [
        {
          "name": "stderr",
          "output_type": "stream",
          "text": [
            "[*********************100%%**********************]  1 of 1 completed\n"
          ]
        }
      ],
      "source": [
        "stock = get_stock_data(\"MSFT\")"
      ]
    },
    {
      "cell_type": "code",
      "execution_count": 10,
      "metadata": {
        "id": "Ek-4rDoP0n65"
      },
      "outputs": [],
      "source": [
        "\n",
        "stock['Return'] = stock['Close'].pct_change()\n",
        "stock['Acc_Return'] = (1 + stock['Return']).cumprod() - 1\n",
        "stock.fillna(0, inplace=True)"
      ]
    },
    {
      "cell_type": "code",
      "execution_count": 11,
      "metadata": {
        "id": "YSTPFDqq02pv"
      },
      "outputs": [
        {
          "data": {
            "text/html": [
              "<div>\n",
              "<style scoped>\n",
              "    .dataframe tbody tr th:only-of-type {\n",
              "        vertical-align: middle;\n",
              "    }\n",
              "\n",
              "    .dataframe tbody tr th {\n",
              "        vertical-align: top;\n",
              "    }\n",
              "\n",
              "    .dataframe thead th {\n",
              "        text-align: right;\n",
              "    }\n",
              "</style>\n",
              "<table border=\"1\" class=\"dataframe\">\n",
              "  <thead>\n",
              "    <tr style=\"text-align: right;\">\n",
              "      <th></th>\n",
              "      <th>Open</th>\n",
              "      <th>High</th>\n",
              "      <th>Low</th>\n",
              "      <th>Close</th>\n",
              "      <th>Adj Close</th>\n",
              "      <th>Volume</th>\n",
              "      <th>Return</th>\n",
              "      <th>Acc_Return</th>\n",
              "    </tr>\n",
              "    <tr>\n",
              "      <th>Date</th>\n",
              "      <th></th>\n",
              "      <th></th>\n",
              "      <th></th>\n",
              "      <th></th>\n",
              "      <th></th>\n",
              "      <th></th>\n",
              "      <th></th>\n",
              "      <th></th>\n",
              "    </tr>\n",
              "  </thead>\n",
              "  <tbody>\n",
              "    <tr>\n",
              "      <th>1986-03-13</th>\n",
              "      <td>0.088542</td>\n",
              "      <td>0.101563</td>\n",
              "      <td>0.088542</td>\n",
              "      <td>0.097222</td>\n",
              "      <td>0.060163</td>\n",
              "      <td>1031788800</td>\n",
              "      <td>0.000000</td>\n",
              "      <td>0.000000</td>\n",
              "    </tr>\n",
              "    <tr>\n",
              "      <th>1986-03-14</th>\n",
              "      <td>0.097222</td>\n",
              "      <td>0.102431</td>\n",
              "      <td>0.097222</td>\n",
              "      <td>0.100694</td>\n",
              "      <td>0.062311</td>\n",
              "      <td>308160000</td>\n",
              "      <td>0.035712</td>\n",
              "      <td>0.035712</td>\n",
              "    </tr>\n",
              "    <tr>\n",
              "      <th>1986-03-17</th>\n",
              "      <td>0.100694</td>\n",
              "      <td>0.103299</td>\n",
              "      <td>0.100694</td>\n",
              "      <td>0.102431</td>\n",
              "      <td>0.063386</td>\n",
              "      <td>133171200</td>\n",
              "      <td>0.017250</td>\n",
              "      <td>0.053578</td>\n",
              "    </tr>\n",
              "    <tr>\n",
              "      <th>1986-03-18</th>\n",
              "      <td>0.102431</td>\n",
              "      <td>0.103299</td>\n",
              "      <td>0.098958</td>\n",
              "      <td>0.099826</td>\n",
              "      <td>0.061774</td>\n",
              "      <td>67766400</td>\n",
              "      <td>-0.025432</td>\n",
              "      <td>0.026784</td>\n",
              "    </tr>\n",
              "    <tr>\n",
              "      <th>1986-03-19</th>\n",
              "      <td>0.099826</td>\n",
              "      <td>0.100694</td>\n",
              "      <td>0.097222</td>\n",
              "      <td>0.098090</td>\n",
              "      <td>0.060700</td>\n",
              "      <td>47894400</td>\n",
              "      <td>-0.017390</td>\n",
              "      <td>0.008928</td>\n",
              "    </tr>\n",
              "    <tr>\n",
              "      <th>...</th>\n",
              "      <td>...</td>\n",
              "      <td>...</td>\n",
              "      <td>...</td>\n",
              "      <td>...</td>\n",
              "      <td>...</td>\n",
              "      <td>...</td>\n",
              "      <td>...</td>\n",
              "      <td>...</td>\n",
              "    </tr>\n",
              "    <tr>\n",
              "      <th>2024-04-11</th>\n",
              "      <td>425.820007</td>\n",
              "      <td>429.369995</td>\n",
              "      <td>422.359985</td>\n",
              "      <td>427.929993</td>\n",
              "      <td>427.929993</td>\n",
              "      <td>17966400</td>\n",
              "      <td>0.011033</td>\n",
              "      <td>4400.575683</td>\n",
              "    </tr>\n",
              "    <tr>\n",
              "      <th>2024-04-12</th>\n",
              "      <td>424.049988</td>\n",
              "      <td>425.179993</td>\n",
              "      <td>419.769989</td>\n",
              "      <td>421.899994</td>\n",
              "      <td>421.899994</td>\n",
              "      <td>19232100</td>\n",
              "      <td>-0.014091</td>\n",
              "      <td>4338.552697</td>\n",
              "    </tr>\n",
              "    <tr>\n",
              "      <th>2024-04-15</th>\n",
              "      <td>426.600006</td>\n",
              "      <td>426.820007</td>\n",
              "      <td>413.429993</td>\n",
              "      <td>413.640015</td>\n",
              "      <td>413.640015</td>\n",
              "      <td>20273500</td>\n",
              "      <td>-0.019578</td>\n",
              "      <td>4253.592717</td>\n",
              "    </tr>\n",
              "    <tr>\n",
              "      <th>2024-04-16</th>\n",
              "      <td>414.570007</td>\n",
              "      <td>418.399994</td>\n",
              "      <td>413.730011</td>\n",
              "      <td>414.579987</td>\n",
              "      <td>414.579987</td>\n",
              "      <td>16765600</td>\n",
              "      <td>0.002272</td>\n",
              "      <td>4263.261022</td>\n",
              "    </tr>\n",
              "    <tr>\n",
              "      <th>2024-04-17</th>\n",
              "      <td>417.250000</td>\n",
              "      <td>418.880005</td>\n",
              "      <td>410.329987</td>\n",
              "      <td>411.839996</td>\n",
              "      <td>411.839996</td>\n",
              "      <td>15824000</td>\n",
              "      <td>-0.006609</td>\n",
              "      <td>4235.078201</td>\n",
              "    </tr>\n",
              "  </tbody>\n",
              "</table>\n",
              "<p>9601 rows × 8 columns</p>\n",
              "</div>"
            ],
            "text/plain": [
              "                  Open        High         Low       Close   Adj Close  \\\n",
              "Date                                                                     \n",
              "1986-03-13    0.088542    0.101563    0.088542    0.097222    0.060163   \n",
              "1986-03-14    0.097222    0.102431    0.097222    0.100694    0.062311   \n",
              "1986-03-17    0.100694    0.103299    0.100694    0.102431    0.063386   \n",
              "1986-03-18    0.102431    0.103299    0.098958    0.099826    0.061774   \n",
              "1986-03-19    0.099826    0.100694    0.097222    0.098090    0.060700   \n",
              "...                ...         ...         ...         ...         ...   \n",
              "2024-04-11  425.820007  429.369995  422.359985  427.929993  427.929993   \n",
              "2024-04-12  424.049988  425.179993  419.769989  421.899994  421.899994   \n",
              "2024-04-15  426.600006  426.820007  413.429993  413.640015  413.640015   \n",
              "2024-04-16  414.570007  418.399994  413.730011  414.579987  414.579987   \n",
              "2024-04-17  417.250000  418.880005  410.329987  411.839996  411.839996   \n",
              "\n",
              "                Volume    Return   Acc_Return  \n",
              "Date                                           \n",
              "1986-03-13  1031788800  0.000000     0.000000  \n",
              "1986-03-14   308160000  0.035712     0.035712  \n",
              "1986-03-17   133171200  0.017250     0.053578  \n",
              "1986-03-18    67766400 -0.025432     0.026784  \n",
              "1986-03-19    47894400 -0.017390     0.008928  \n",
              "...                ...       ...          ...  \n",
              "2024-04-11    17966400  0.011033  4400.575683  \n",
              "2024-04-12    19232100 -0.014091  4338.552697  \n",
              "2024-04-15    20273500 -0.019578  4253.592717  \n",
              "2024-04-16    16765600  0.002272  4263.261022  \n",
              "2024-04-17    15824000 -0.006609  4235.078201  \n",
              "\n",
              "[9601 rows x 8 columns]"
            ]
          },
          "execution_count": 11,
          "metadata": {},
          "output_type": "execute_result"
        }
      ],
      "source": [
        "stock"
      ]
    },
    {
      "cell_type": "code",
      "execution_count": 12,
      "metadata": {
        "id": "S6Ayj2ih03Hh"
      },
      "outputs": [
        {
          "name": "stderr",
          "output_type": "stream",
          "text": [
            "09:50:57 - cmdstanpy - INFO - Chain [1] start processing\n",
            "09:51:04 - cmdstanpy - INFO - Chain [1] done processing\n"
          ]
        }
      ],
      "source": [
        "stock_forecast = forecast_prophet(stock.index, stock['Acc_Return'])"
      ]
    },
    {
      "cell_type": "code",
      "execution_count": 21,
      "metadata": {},
      "outputs": [
        {
          "data": {
            "text/html": [
              "<div>\n",
              "<style scoped>\n",
              "    .dataframe tbody tr th:only-of-type {\n",
              "        vertical-align: middle;\n",
              "    }\n",
              "\n",
              "    .dataframe tbody tr th {\n",
              "        vertical-align: top;\n",
              "    }\n",
              "\n",
              "    .dataframe thead th {\n",
              "        text-align: right;\n",
              "    }\n",
              "</style>\n",
              "<table border=\"1\" class=\"dataframe\">\n",
              "  <thead>\n",
              "    <tr style=\"text-align: right;\">\n",
              "      <th></th>\n",
              "      <th>ds</th>\n",
              "      <th>trend</th>\n",
              "      <th>yhat_lower</th>\n",
              "      <th>yhat_upper</th>\n",
              "      <th>trend_lower</th>\n",
              "      <th>trend_upper</th>\n",
              "      <th>additive_terms</th>\n",
              "      <th>additive_terms_lower</th>\n",
              "      <th>additive_terms_upper</th>\n",
              "      <th>weekly</th>\n",
              "      <th>weekly_lower</th>\n",
              "      <th>weekly_upper</th>\n",
              "      <th>yearly</th>\n",
              "      <th>yearly_lower</th>\n",
              "      <th>yearly_upper</th>\n",
              "      <th>multiplicative_terms</th>\n",
              "      <th>multiplicative_terms_lower</th>\n",
              "      <th>multiplicative_terms_upper</th>\n",
              "      <th>yhat</th>\n",
              "    </tr>\n",
              "  </thead>\n",
              "  <tbody>\n",
              "    <tr>\n",
              "      <th>0</th>\n",
              "      <td>1986-03-13</td>\n",
              "      <td>-3.583400</td>\n",
              "      <td>-189.314738</td>\n",
              "      <td>151.161978</td>\n",
              "      <td>-3.583400</td>\n",
              "      <td>-3.583400</td>\n",
              "      <td>-8.124423</td>\n",
              "      <td>-8.124423</td>\n",
              "      <td>-8.124423</td>\n",
              "      <td>-0.386248</td>\n",
              "      <td>-0.386248</td>\n",
              "      <td>-0.386248</td>\n",
              "      <td>-7.738176</td>\n",
              "      <td>-7.738176</td>\n",
              "      <td>-7.738176</td>\n",
              "      <td>0.0</td>\n",
              "      <td>0.0</td>\n",
              "      <td>0.0</td>\n",
              "      <td>-11.707824</td>\n",
              "    </tr>\n",
              "    <tr>\n",
              "      <th>1</th>\n",
              "      <td>1986-03-14</td>\n",
              "      <td>-3.573944</td>\n",
              "      <td>-199.296500</td>\n",
              "      <td>164.630225</td>\n",
              "      <td>-3.573944</td>\n",
              "      <td>-3.573944</td>\n",
              "      <td>-8.068200</td>\n",
              "      <td>-8.068200</td>\n",
              "      <td>-8.068200</td>\n",
              "      <td>-1.087150</td>\n",
              "      <td>-1.087150</td>\n",
              "      <td>-1.087150</td>\n",
              "      <td>-6.981049</td>\n",
              "      <td>-6.981049</td>\n",
              "      <td>-6.981049</td>\n",
              "      <td>0.0</td>\n",
              "      <td>0.0</td>\n",
              "      <td>0.0</td>\n",
              "      <td>-11.642144</td>\n",
              "    </tr>\n",
              "    <tr>\n",
              "      <th>2</th>\n",
              "      <td>1986-03-17</td>\n",
              "      <td>-3.545575</td>\n",
              "      <td>-197.411399</td>\n",
              "      <td>161.516832</td>\n",
              "      <td>-3.545575</td>\n",
              "      <td>-3.545575</td>\n",
              "      <td>-4.936891</td>\n",
              "      <td>-4.936891</td>\n",
              "      <td>-4.936891</td>\n",
              "      <td>-0.686836</td>\n",
              "      <td>-0.686836</td>\n",
              "      <td>-0.686836</td>\n",
              "      <td>-4.250055</td>\n",
              "      <td>-4.250055</td>\n",
              "      <td>-4.250055</td>\n",
              "      <td>0.0</td>\n",
              "      <td>0.0</td>\n",
              "      <td>0.0</td>\n",
              "      <td>-8.482467</td>\n",
              "    </tr>\n",
              "    <tr>\n",
              "      <th>3</th>\n",
              "      <td>1986-03-18</td>\n",
              "      <td>-3.536119</td>\n",
              "      <td>-203.732636</td>\n",
              "      <td>162.352221</td>\n",
              "      <td>-3.536119</td>\n",
              "      <td>-3.536119</td>\n",
              "      <td>-4.333929</td>\n",
              "      <td>-4.333929</td>\n",
              "      <td>-4.333929</td>\n",
              "      <td>-1.102115</td>\n",
              "      <td>-1.102115</td>\n",
              "      <td>-1.102115</td>\n",
              "      <td>-3.231813</td>\n",
              "      <td>-3.231813</td>\n",
              "      <td>-3.231813</td>\n",
              "      <td>0.0</td>\n",
              "      <td>0.0</td>\n",
              "      <td>0.0</td>\n",
              "      <td>-7.870048</td>\n",
              "    </tr>\n",
              "    <tr>\n",
              "      <th>4</th>\n",
              "      <td>1986-03-19</td>\n",
              "      <td>-3.526663</td>\n",
              "      <td>-188.464403</td>\n",
              "      <td>157.897261</td>\n",
              "      <td>-3.526663</td>\n",
              "      <td>-3.526663</td>\n",
              "      <td>-2.536022</td>\n",
              "      <td>-2.536022</td>\n",
              "      <td>-2.536022</td>\n",
              "      <td>-0.353003</td>\n",
              "      <td>-0.353003</td>\n",
              "      <td>-0.353003</td>\n",
              "      <td>-2.183019</td>\n",
              "      <td>-2.183019</td>\n",
              "      <td>-2.183019</td>\n",
              "      <td>0.0</td>\n",
              "      <td>0.0</td>\n",
              "      <td>0.0</td>\n",
              "      <td>-6.062685</td>\n",
              "    </tr>\n",
              "    <tr>\n",
              "      <th>...</th>\n",
              "      <td>...</td>\n",
              "      <td>...</td>\n",
              "      <td>...</td>\n",
              "      <td>...</td>\n",
              "      <td>...</td>\n",
              "      <td>...</td>\n",
              "      <td>...</td>\n",
              "      <td>...</td>\n",
              "      <td>...</td>\n",
              "      <td>...</td>\n",
              "      <td>...</td>\n",
              "      <td>...</td>\n",
              "      <td>...</td>\n",
              "      <td>...</td>\n",
              "      <td>...</td>\n",
              "      <td>...</td>\n",
              "      <td>...</td>\n",
              "      <td>...</td>\n",
              "      <td>...</td>\n",
              "    </tr>\n",
              "    <tr>\n",
              "      <th>11516</th>\n",
              "      <td>2029-07-16</td>\n",
              "      <td>6021.961455</td>\n",
              "      <td>5527.077564</td>\n",
              "      <td>6488.272978</td>\n",
              "      <td>5548.662685</td>\n",
              "      <td>6457.889105</td>\n",
              "      <td>8.548677</td>\n",
              "      <td>8.548677</td>\n",
              "      <td>8.548677</td>\n",
              "      <td>-0.686836</td>\n",
              "      <td>-0.686836</td>\n",
              "      <td>-0.686836</td>\n",
              "      <td>9.235513</td>\n",
              "      <td>9.235513</td>\n",
              "      <td>9.235513</td>\n",
              "      <td>0.0</td>\n",
              "      <td>0.0</td>\n",
              "      <td>0.0</td>\n",
              "      <td>6030.510132</td>\n",
              "    </tr>\n",
              "    <tr>\n",
              "      <th>11517</th>\n",
              "      <td>2029-07-17</td>\n",
              "      <td>6023.167691</td>\n",
              "      <td>5520.954456</td>\n",
              "      <td>6510.298843</td>\n",
              "      <td>5549.520080</td>\n",
              "      <td>6459.475129</td>\n",
              "      <td>8.291977</td>\n",
              "      <td>8.291977</td>\n",
              "      <td>8.291977</td>\n",
              "      <td>-1.102115</td>\n",
              "      <td>-1.102115</td>\n",
              "      <td>-1.102115</td>\n",
              "      <td>9.394093</td>\n",
              "      <td>9.394093</td>\n",
              "      <td>9.394093</td>\n",
              "      <td>0.0</td>\n",
              "      <td>0.0</td>\n",
              "      <td>0.0</td>\n",
              "      <td>6031.459668</td>\n",
              "    </tr>\n",
              "    <tr>\n",
              "      <th>11518</th>\n",
              "      <td>2029-07-18</td>\n",
              "      <td>6024.373927</td>\n",
              "      <td>5554.621282</td>\n",
              "      <td>6520.579812</td>\n",
              "      <td>5550.377475</td>\n",
              "      <td>6461.061154</td>\n",
              "      <td>9.152025</td>\n",
              "      <td>9.152025</td>\n",
              "      <td>9.152025</td>\n",
              "      <td>-0.353003</td>\n",
              "      <td>-0.353003</td>\n",
              "      <td>-0.353003</td>\n",
              "      <td>9.505028</td>\n",
              "      <td>9.505028</td>\n",
              "      <td>9.505028</td>\n",
              "      <td>0.0</td>\n",
              "      <td>0.0</td>\n",
              "      <td>0.0</td>\n",
              "      <td>6033.525952</td>\n",
              "    </tr>\n",
              "    <tr>\n",
              "      <th>11519</th>\n",
              "      <td>2029-07-19</td>\n",
              "      <td>6025.580162</td>\n",
              "      <td>5518.617171</td>\n",
              "      <td>6517.090939</td>\n",
              "      <td>5551.234870</td>\n",
              "      <td>6462.647179</td>\n",
              "      <td>9.181473</td>\n",
              "      <td>9.181473</td>\n",
              "      <td>9.181473</td>\n",
              "      <td>-0.386248</td>\n",
              "      <td>-0.386248</td>\n",
              "      <td>-0.386248</td>\n",
              "      <td>9.567721</td>\n",
              "      <td>9.567721</td>\n",
              "      <td>9.567721</td>\n",
              "      <td>0.0</td>\n",
              "      <td>0.0</td>\n",
              "      <td>0.0</td>\n",
              "      <td>6034.761635</td>\n",
              "    </tr>\n",
              "    <tr>\n",
              "      <th>11520</th>\n",
              "      <td>2029-07-20</td>\n",
              "      <td>6026.786398</td>\n",
              "      <td>5520.414445</td>\n",
              "      <td>6534.957764</td>\n",
              "      <td>5552.092264</td>\n",
              "      <td>6464.233203</td>\n",
              "      <td>8.495042</td>\n",
              "      <td>8.495042</td>\n",
              "      <td>8.495042</td>\n",
              "      <td>-1.087150</td>\n",
              "      <td>-1.087150</td>\n",
              "      <td>-1.087150</td>\n",
              "      <td>9.582192</td>\n",
              "      <td>9.582192</td>\n",
              "      <td>9.582192</td>\n",
              "      <td>0.0</td>\n",
              "      <td>0.0</td>\n",
              "      <td>0.0</td>\n",
              "      <td>6035.281440</td>\n",
              "    </tr>\n",
              "  </tbody>\n",
              "</table>\n",
              "<p>11521 rows × 19 columns</p>\n",
              "</div>"
            ],
            "text/plain": [
              "              ds        trend   yhat_lower   yhat_upper  trend_lower  \\\n",
              "0     1986-03-13    -3.583400  -189.314738   151.161978    -3.583400   \n",
              "1     1986-03-14    -3.573944  -199.296500   164.630225    -3.573944   \n",
              "2     1986-03-17    -3.545575  -197.411399   161.516832    -3.545575   \n",
              "3     1986-03-18    -3.536119  -203.732636   162.352221    -3.536119   \n",
              "4     1986-03-19    -3.526663  -188.464403   157.897261    -3.526663   \n",
              "...          ...          ...          ...          ...          ...   \n",
              "11516 2029-07-16  6021.961455  5527.077564  6488.272978  5548.662685   \n",
              "11517 2029-07-17  6023.167691  5520.954456  6510.298843  5549.520080   \n",
              "11518 2029-07-18  6024.373927  5554.621282  6520.579812  5550.377475   \n",
              "11519 2029-07-19  6025.580162  5518.617171  6517.090939  5551.234870   \n",
              "11520 2029-07-20  6026.786398  5520.414445  6534.957764  5552.092264   \n",
              "\n",
              "       trend_upper  additive_terms  additive_terms_lower  \\\n",
              "0        -3.583400       -8.124423             -8.124423   \n",
              "1        -3.573944       -8.068200             -8.068200   \n",
              "2        -3.545575       -4.936891             -4.936891   \n",
              "3        -3.536119       -4.333929             -4.333929   \n",
              "4        -3.526663       -2.536022             -2.536022   \n",
              "...            ...             ...                   ...   \n",
              "11516  6457.889105        8.548677              8.548677   \n",
              "11517  6459.475129        8.291977              8.291977   \n",
              "11518  6461.061154        9.152025              9.152025   \n",
              "11519  6462.647179        9.181473              9.181473   \n",
              "11520  6464.233203        8.495042              8.495042   \n",
              "\n",
              "       additive_terms_upper    weekly  weekly_lower  weekly_upper    yearly  \\\n",
              "0                 -8.124423 -0.386248     -0.386248     -0.386248 -7.738176   \n",
              "1                 -8.068200 -1.087150     -1.087150     -1.087150 -6.981049   \n",
              "2                 -4.936891 -0.686836     -0.686836     -0.686836 -4.250055   \n",
              "3                 -4.333929 -1.102115     -1.102115     -1.102115 -3.231813   \n",
              "4                 -2.536022 -0.353003     -0.353003     -0.353003 -2.183019   \n",
              "...                     ...       ...           ...           ...       ...   \n",
              "11516              8.548677 -0.686836     -0.686836     -0.686836  9.235513   \n",
              "11517              8.291977 -1.102115     -1.102115     -1.102115  9.394093   \n",
              "11518              9.152025 -0.353003     -0.353003     -0.353003  9.505028   \n",
              "11519              9.181473 -0.386248     -0.386248     -0.386248  9.567721   \n",
              "11520              8.495042 -1.087150     -1.087150     -1.087150  9.582192   \n",
              "\n",
              "       yearly_lower  yearly_upper  multiplicative_terms  \\\n",
              "0         -7.738176     -7.738176                   0.0   \n",
              "1         -6.981049     -6.981049                   0.0   \n",
              "2         -4.250055     -4.250055                   0.0   \n",
              "3         -3.231813     -3.231813                   0.0   \n",
              "4         -2.183019     -2.183019                   0.0   \n",
              "...             ...           ...                   ...   \n",
              "11516      9.235513      9.235513                   0.0   \n",
              "11517      9.394093      9.394093                   0.0   \n",
              "11518      9.505028      9.505028                   0.0   \n",
              "11519      9.567721      9.567721                   0.0   \n",
              "11520      9.582192      9.582192                   0.0   \n",
              "\n",
              "       multiplicative_terms_lower  multiplicative_terms_upper         yhat  \n",
              "0                             0.0                         0.0   -11.707824  \n",
              "1                             0.0                         0.0   -11.642144  \n",
              "2                             0.0                         0.0    -8.482467  \n",
              "3                             0.0                         0.0    -7.870048  \n",
              "4                             0.0                         0.0    -6.062685  \n",
              "...                           ...                         ...          ...  \n",
              "11516                         0.0                         0.0  6030.510132  \n",
              "11517                         0.0                         0.0  6031.459668  \n",
              "11518                         0.0                         0.0  6033.525952  \n",
              "11519                         0.0                         0.0  6034.761635  \n",
              "11520                         0.0                         0.0  6035.281440  \n",
              "\n",
              "[11521 rows x 19 columns]"
            ]
          },
          "execution_count": 21,
          "metadata": {},
          "output_type": "execute_result"
        }
      ],
      "source": [
        "# Stock forecast dividido por ticker (?)\n",
        "\n",
        "stock_forecast"
      ]
    },
    {
      "cell_type": "code",
      "execution_count": 13,
      "metadata": {
        "id": "pC7DTC-SBW-I"
      },
      "outputs": [],
      "source": [
        "stock_forecast.to_csv('Prophet Forecast.csv', encoding='utf-8')"
      ]
    },
    {
      "cell_type": "code",
      "execution_count": 14,
      "metadata": {},
      "outputs": [],
      "source": [
        "df_forecast = pd.read_csv(\"Prophet Forecast.csv\")"
      ]
    },
    {
      "cell_type": "code",
      "execution_count": 15,
      "metadata": {},
      "outputs": [
        {
          "data": {
            "text/html": [
              "<div>\n",
              "<style scoped>\n",
              "    .dataframe tbody tr th:only-of-type {\n",
              "        vertical-align: middle;\n",
              "    }\n",
              "\n",
              "    .dataframe tbody tr th {\n",
              "        vertical-align: top;\n",
              "    }\n",
              "\n",
              "    .dataframe thead th {\n",
              "        text-align: right;\n",
              "    }\n",
              "</style>\n",
              "<table border=\"1\" class=\"dataframe\">\n",
              "  <thead>\n",
              "    <tr style=\"text-align: right;\">\n",
              "      <th></th>\n",
              "      <th>Unnamed: 0</th>\n",
              "      <th>ds</th>\n",
              "      <th>trend</th>\n",
              "      <th>yhat_lower</th>\n",
              "      <th>yhat_upper</th>\n",
              "      <th>trend_lower</th>\n",
              "      <th>trend_upper</th>\n",
              "      <th>additive_terms</th>\n",
              "      <th>additive_terms_lower</th>\n",
              "      <th>additive_terms_upper</th>\n",
              "      <th>weekly</th>\n",
              "      <th>weekly_lower</th>\n",
              "      <th>weekly_upper</th>\n",
              "      <th>yearly</th>\n",
              "      <th>yearly_lower</th>\n",
              "      <th>yearly_upper</th>\n",
              "      <th>multiplicative_terms</th>\n",
              "      <th>multiplicative_terms_lower</th>\n",
              "      <th>multiplicative_terms_upper</th>\n",
              "      <th>yhat</th>\n",
              "    </tr>\n",
              "  </thead>\n",
              "  <tbody>\n",
              "    <tr>\n",
              "      <th>0</th>\n",
              "      <td>0</td>\n",
              "      <td>1986-03-13</td>\n",
              "      <td>-3.583400</td>\n",
              "      <td>-189.314738</td>\n",
              "      <td>151.161978</td>\n",
              "      <td>-3.583400</td>\n",
              "      <td>-3.583400</td>\n",
              "      <td>-8.124423</td>\n",
              "      <td>-8.124423</td>\n",
              "      <td>-8.124423</td>\n",
              "      <td>-0.386248</td>\n",
              "      <td>-0.386248</td>\n",
              "      <td>-0.386248</td>\n",
              "      <td>-7.738176</td>\n",
              "      <td>-7.738176</td>\n",
              "      <td>-7.738176</td>\n",
              "      <td>0.0</td>\n",
              "      <td>0.0</td>\n",
              "      <td>0.0</td>\n",
              "      <td>-11.707824</td>\n",
              "    </tr>\n",
              "    <tr>\n",
              "      <th>1</th>\n",
              "      <td>1</td>\n",
              "      <td>1986-03-14</td>\n",
              "      <td>-3.573944</td>\n",
              "      <td>-199.296500</td>\n",
              "      <td>164.630225</td>\n",
              "      <td>-3.573944</td>\n",
              "      <td>-3.573944</td>\n",
              "      <td>-8.068200</td>\n",
              "      <td>-8.068200</td>\n",
              "      <td>-8.068200</td>\n",
              "      <td>-1.087150</td>\n",
              "      <td>-1.087150</td>\n",
              "      <td>-1.087150</td>\n",
              "      <td>-6.981049</td>\n",
              "      <td>-6.981049</td>\n",
              "      <td>-6.981049</td>\n",
              "      <td>0.0</td>\n",
              "      <td>0.0</td>\n",
              "      <td>0.0</td>\n",
              "      <td>-11.642144</td>\n",
              "    </tr>\n",
              "    <tr>\n",
              "      <th>2</th>\n",
              "      <td>2</td>\n",
              "      <td>1986-03-17</td>\n",
              "      <td>-3.545575</td>\n",
              "      <td>-197.411399</td>\n",
              "      <td>161.516832</td>\n",
              "      <td>-3.545575</td>\n",
              "      <td>-3.545575</td>\n",
              "      <td>-4.936891</td>\n",
              "      <td>-4.936891</td>\n",
              "      <td>-4.936891</td>\n",
              "      <td>-0.686836</td>\n",
              "      <td>-0.686836</td>\n",
              "      <td>-0.686836</td>\n",
              "      <td>-4.250055</td>\n",
              "      <td>-4.250055</td>\n",
              "      <td>-4.250055</td>\n",
              "      <td>0.0</td>\n",
              "      <td>0.0</td>\n",
              "      <td>0.0</td>\n",
              "      <td>-8.482467</td>\n",
              "    </tr>\n",
              "    <tr>\n",
              "      <th>3</th>\n",
              "      <td>3</td>\n",
              "      <td>1986-03-18</td>\n",
              "      <td>-3.536119</td>\n",
              "      <td>-203.732636</td>\n",
              "      <td>162.352221</td>\n",
              "      <td>-3.536119</td>\n",
              "      <td>-3.536119</td>\n",
              "      <td>-4.333929</td>\n",
              "      <td>-4.333929</td>\n",
              "      <td>-4.333929</td>\n",
              "      <td>-1.102115</td>\n",
              "      <td>-1.102115</td>\n",
              "      <td>-1.102115</td>\n",
              "      <td>-3.231813</td>\n",
              "      <td>-3.231813</td>\n",
              "      <td>-3.231813</td>\n",
              "      <td>0.0</td>\n",
              "      <td>0.0</td>\n",
              "      <td>0.0</td>\n",
              "      <td>-7.870048</td>\n",
              "    </tr>\n",
              "    <tr>\n",
              "      <th>4</th>\n",
              "      <td>4</td>\n",
              "      <td>1986-03-19</td>\n",
              "      <td>-3.526663</td>\n",
              "      <td>-188.464403</td>\n",
              "      <td>157.897261</td>\n",
              "      <td>-3.526663</td>\n",
              "      <td>-3.526663</td>\n",
              "      <td>-2.536022</td>\n",
              "      <td>-2.536022</td>\n",
              "      <td>-2.536022</td>\n",
              "      <td>-0.353003</td>\n",
              "      <td>-0.353003</td>\n",
              "      <td>-0.353003</td>\n",
              "      <td>-2.183019</td>\n",
              "      <td>-2.183019</td>\n",
              "      <td>-2.183019</td>\n",
              "      <td>0.0</td>\n",
              "      <td>0.0</td>\n",
              "      <td>0.0</td>\n",
              "      <td>-6.062685</td>\n",
              "    </tr>\n",
              "    <tr>\n",
              "      <th>...</th>\n",
              "      <td>...</td>\n",
              "      <td>...</td>\n",
              "      <td>...</td>\n",
              "      <td>...</td>\n",
              "      <td>...</td>\n",
              "      <td>...</td>\n",
              "      <td>...</td>\n",
              "      <td>...</td>\n",
              "      <td>...</td>\n",
              "      <td>...</td>\n",
              "      <td>...</td>\n",
              "      <td>...</td>\n",
              "      <td>...</td>\n",
              "      <td>...</td>\n",
              "      <td>...</td>\n",
              "      <td>...</td>\n",
              "      <td>...</td>\n",
              "      <td>...</td>\n",
              "      <td>...</td>\n",
              "      <td>...</td>\n",
              "    </tr>\n",
              "    <tr>\n",
              "      <th>11516</th>\n",
              "      <td>11516</td>\n",
              "      <td>2029-07-16</td>\n",
              "      <td>6021.961455</td>\n",
              "      <td>5527.077564</td>\n",
              "      <td>6488.272978</td>\n",
              "      <td>5548.662685</td>\n",
              "      <td>6457.889105</td>\n",
              "      <td>8.548677</td>\n",
              "      <td>8.548677</td>\n",
              "      <td>8.548677</td>\n",
              "      <td>-0.686836</td>\n",
              "      <td>-0.686836</td>\n",
              "      <td>-0.686836</td>\n",
              "      <td>9.235513</td>\n",
              "      <td>9.235513</td>\n",
              "      <td>9.235513</td>\n",
              "      <td>0.0</td>\n",
              "      <td>0.0</td>\n",
              "      <td>0.0</td>\n",
              "      <td>6030.510132</td>\n",
              "    </tr>\n",
              "    <tr>\n",
              "      <th>11517</th>\n",
              "      <td>11517</td>\n",
              "      <td>2029-07-17</td>\n",
              "      <td>6023.167691</td>\n",
              "      <td>5520.954456</td>\n",
              "      <td>6510.298843</td>\n",
              "      <td>5549.520080</td>\n",
              "      <td>6459.475129</td>\n",
              "      <td>8.291977</td>\n",
              "      <td>8.291977</td>\n",
              "      <td>8.291977</td>\n",
              "      <td>-1.102115</td>\n",
              "      <td>-1.102115</td>\n",
              "      <td>-1.102115</td>\n",
              "      <td>9.394093</td>\n",
              "      <td>9.394093</td>\n",
              "      <td>9.394093</td>\n",
              "      <td>0.0</td>\n",
              "      <td>0.0</td>\n",
              "      <td>0.0</td>\n",
              "      <td>6031.459668</td>\n",
              "    </tr>\n",
              "    <tr>\n",
              "      <th>11518</th>\n",
              "      <td>11518</td>\n",
              "      <td>2029-07-18</td>\n",
              "      <td>6024.373927</td>\n",
              "      <td>5554.621282</td>\n",
              "      <td>6520.579812</td>\n",
              "      <td>5550.377475</td>\n",
              "      <td>6461.061154</td>\n",
              "      <td>9.152025</td>\n",
              "      <td>9.152025</td>\n",
              "      <td>9.152025</td>\n",
              "      <td>-0.353003</td>\n",
              "      <td>-0.353003</td>\n",
              "      <td>-0.353003</td>\n",
              "      <td>9.505028</td>\n",
              "      <td>9.505028</td>\n",
              "      <td>9.505028</td>\n",
              "      <td>0.0</td>\n",
              "      <td>0.0</td>\n",
              "      <td>0.0</td>\n",
              "      <td>6033.525952</td>\n",
              "    </tr>\n",
              "    <tr>\n",
              "      <th>11519</th>\n",
              "      <td>11519</td>\n",
              "      <td>2029-07-19</td>\n",
              "      <td>6025.580162</td>\n",
              "      <td>5518.617171</td>\n",
              "      <td>6517.090939</td>\n",
              "      <td>5551.234870</td>\n",
              "      <td>6462.647179</td>\n",
              "      <td>9.181473</td>\n",
              "      <td>9.181473</td>\n",
              "      <td>9.181473</td>\n",
              "      <td>-0.386248</td>\n",
              "      <td>-0.386248</td>\n",
              "      <td>-0.386248</td>\n",
              "      <td>9.567721</td>\n",
              "      <td>9.567721</td>\n",
              "      <td>9.567721</td>\n",
              "      <td>0.0</td>\n",
              "      <td>0.0</td>\n",
              "      <td>0.0</td>\n",
              "      <td>6034.761635</td>\n",
              "    </tr>\n",
              "    <tr>\n",
              "      <th>11520</th>\n",
              "      <td>11520</td>\n",
              "      <td>2029-07-20</td>\n",
              "      <td>6026.786398</td>\n",
              "      <td>5520.414445</td>\n",
              "      <td>6534.957764</td>\n",
              "      <td>5552.092264</td>\n",
              "      <td>6464.233203</td>\n",
              "      <td>8.495042</td>\n",
              "      <td>8.495042</td>\n",
              "      <td>8.495042</td>\n",
              "      <td>-1.087150</td>\n",
              "      <td>-1.087150</td>\n",
              "      <td>-1.087150</td>\n",
              "      <td>9.582192</td>\n",
              "      <td>9.582192</td>\n",
              "      <td>9.582192</td>\n",
              "      <td>0.0</td>\n",
              "      <td>0.0</td>\n",
              "      <td>0.0</td>\n",
              "      <td>6035.281440</td>\n",
              "    </tr>\n",
              "  </tbody>\n",
              "</table>\n",
              "<p>11521 rows × 20 columns</p>\n",
              "</div>"
            ],
            "text/plain": [
              "       Unnamed: 0          ds        trend   yhat_lower   yhat_upper  \\\n",
              "0               0  1986-03-13    -3.583400  -189.314738   151.161978   \n",
              "1               1  1986-03-14    -3.573944  -199.296500   164.630225   \n",
              "2               2  1986-03-17    -3.545575  -197.411399   161.516832   \n",
              "3               3  1986-03-18    -3.536119  -203.732636   162.352221   \n",
              "4               4  1986-03-19    -3.526663  -188.464403   157.897261   \n",
              "...           ...         ...          ...          ...          ...   \n",
              "11516       11516  2029-07-16  6021.961455  5527.077564  6488.272978   \n",
              "11517       11517  2029-07-17  6023.167691  5520.954456  6510.298843   \n",
              "11518       11518  2029-07-18  6024.373927  5554.621282  6520.579812   \n",
              "11519       11519  2029-07-19  6025.580162  5518.617171  6517.090939   \n",
              "11520       11520  2029-07-20  6026.786398  5520.414445  6534.957764   \n",
              "\n",
              "       trend_lower  trend_upper  additive_terms  additive_terms_lower  \\\n",
              "0        -3.583400    -3.583400       -8.124423             -8.124423   \n",
              "1        -3.573944    -3.573944       -8.068200             -8.068200   \n",
              "2        -3.545575    -3.545575       -4.936891             -4.936891   \n",
              "3        -3.536119    -3.536119       -4.333929             -4.333929   \n",
              "4        -3.526663    -3.526663       -2.536022             -2.536022   \n",
              "...            ...          ...             ...                   ...   \n",
              "11516  5548.662685  6457.889105        8.548677              8.548677   \n",
              "11517  5549.520080  6459.475129        8.291977              8.291977   \n",
              "11518  5550.377475  6461.061154        9.152025              9.152025   \n",
              "11519  5551.234870  6462.647179        9.181473              9.181473   \n",
              "11520  5552.092264  6464.233203        8.495042              8.495042   \n",
              "\n",
              "       additive_terms_upper    weekly  weekly_lower  weekly_upper    yearly  \\\n",
              "0                 -8.124423 -0.386248     -0.386248     -0.386248 -7.738176   \n",
              "1                 -8.068200 -1.087150     -1.087150     -1.087150 -6.981049   \n",
              "2                 -4.936891 -0.686836     -0.686836     -0.686836 -4.250055   \n",
              "3                 -4.333929 -1.102115     -1.102115     -1.102115 -3.231813   \n",
              "4                 -2.536022 -0.353003     -0.353003     -0.353003 -2.183019   \n",
              "...                     ...       ...           ...           ...       ...   \n",
              "11516              8.548677 -0.686836     -0.686836     -0.686836  9.235513   \n",
              "11517              8.291977 -1.102115     -1.102115     -1.102115  9.394093   \n",
              "11518              9.152025 -0.353003     -0.353003     -0.353003  9.505028   \n",
              "11519              9.181473 -0.386248     -0.386248     -0.386248  9.567721   \n",
              "11520              8.495042 -1.087150     -1.087150     -1.087150  9.582192   \n",
              "\n",
              "       yearly_lower  yearly_upper  multiplicative_terms  \\\n",
              "0         -7.738176     -7.738176                   0.0   \n",
              "1         -6.981049     -6.981049                   0.0   \n",
              "2         -4.250055     -4.250055                   0.0   \n",
              "3         -3.231813     -3.231813                   0.0   \n",
              "4         -2.183019     -2.183019                   0.0   \n",
              "...             ...           ...                   ...   \n",
              "11516      9.235513      9.235513                   0.0   \n",
              "11517      9.394093      9.394093                   0.0   \n",
              "11518      9.505028      9.505028                   0.0   \n",
              "11519      9.567721      9.567721                   0.0   \n",
              "11520      9.582192      9.582192                   0.0   \n",
              "\n",
              "       multiplicative_terms_lower  multiplicative_terms_upper         yhat  \n",
              "0                             0.0                         0.0   -11.707824  \n",
              "1                             0.0                         0.0   -11.642144  \n",
              "2                             0.0                         0.0    -8.482467  \n",
              "3                             0.0                         0.0    -7.870048  \n",
              "4                             0.0                         0.0    -6.062685  \n",
              "...                           ...                         ...          ...  \n",
              "11516                         0.0                         0.0  6030.510132  \n",
              "11517                         0.0                         0.0  6031.459668  \n",
              "11518                         0.0                         0.0  6033.525952  \n",
              "11519                         0.0                         0.0  6034.761635  \n",
              "11520                         0.0                         0.0  6035.281440  \n",
              "\n",
              "[11521 rows x 20 columns]"
            ]
          },
          "execution_count": 15,
          "metadata": {},
          "output_type": "execute_result"
        }
      ],
      "source": [
        "df_forecast"
      ]
    }
  ],
  "metadata": {
    "colab": {
      "provenance": []
    },
    "kernelspec": {
      "display_name": "base",
      "language": "python",
      "name": "python3"
    },
    "language_info": {
      "codemirror_mode": {
        "name": "ipython",
        "version": 3
      },
      "file_extension": ".py",
      "mimetype": "text/x-python",
      "name": "python",
      "nbconvert_exporter": "python",
      "pygments_lexer": "ipython3",
      "version": "3.11.4"
    }
  },
  "nbformat": 4,
  "nbformat_minor": 0
}
