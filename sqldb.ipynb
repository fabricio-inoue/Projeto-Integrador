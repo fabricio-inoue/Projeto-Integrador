{
 "cells": [
  {
   "cell_type": "code",
   "execution_count": 5,
   "metadata": {},
   "outputs": [],
   "source": [
    "from flask import Flask\n",
    "from flask import request,Response\n",
    "import os\n",
    "import sqlite3\n",
    "import pandas as pd\n",
    "from matplotlib.backends.backend_agg import FigureCanvasAgg as FigureCanvas\n",
    "from matplotlib.figure import Figure\n",
    "import io\n",
    "import numpy as np"
   ]
  },
  {
   "cell_type": "code",
   "execution_count": 20,
   "metadata": {},
   "outputs": [],
   "source": [
    "def getAll():\n",
    "    conn = sqlite3.connect('stock.db')\n",
    "    strSQL=\"\"\"\n",
    "    SELECT s.Symbol, d.Date_Time, p.Open, p.High, p.Low, p.Close, p.Volume, p.Dividends, p.Stock_Splits, p.Return, p.Acc_Return \n",
    "    FROM Price p\n",
    "    JOIN Symbols s ON p.Symbol_ID = s.Symbol_ID\n",
    "    JOIN Dates d ON p.Date_ID = d.Date_ID\n",
    "    \"\"\"\n",
    "    df = pd.read_sql(strSQL, conn)\n",
    "    conn.close()\n",
    "    return df\n",
    "\n",
    "def showSymbols():\n",
    "    conn = sqlite3.connect('stock.db')\n",
    "    strSQL=\"SELECT DISTINCT Symbol FROM Symbols\"\n",
    "    df = pd.read_sql(strSQL, conn)\n",
    "    conn.close()\n",
    "    return df\n",
    "\n",
    "def getSymbol(sym):\n",
    "    conn = sqlite3.connect('stock.db')\n",
    "    strSQL=\"\"\"\n",
    "    SELECT s.Symbol, d.Date_Time, p.Open, p.High, p.Low, p.Close, p.Volume, p.Dividends, p.Stock_Splits, p.Return, p.Acc_Return \n",
    "    FROM Price p\n",
    "    JOIN Symbols s ON p.Symbol_ID = s.Symbol_ID\n",
    "    JOIN Dates d ON p.Date_ID = d.Date_ID\n",
    "    WHERE s.Symbol=:sym\n",
    "    \"\"\"\n",
    "    df = pd.read_sql_query(strSQL, conn, params={\"sym\": sym})\n",
    "    conn.close()\n",
    "    return df\n",
    "\n",
    "\n",
    "def get_stock_data(date_time):\n",
    "    conn = sqlite3.connect('stock.db')\n",
    "    strSQL = \"\"\"\n",
    "    SELECT s.Symbol, p.Open, p.High, p.Low, p.Close, p.Volume, p.Dividends, p.Stock_Splits, p.Return, p.Acc_Return \n",
    "    FROM Price p\n",
    "    JOIN Symbols s ON p.Symbol_ID = s.Symbol_ID\n",
    "    JOIN Dates d ON p.Date_ID = d.Date_ID\n",
    "    WHERE d.Date_Time LIKE :date_time || '%'\n",
    "    \"\"\"\n",
    "    df = pd.read_sql_query(strSQL, conn, params={\"date_time\": date_time})\n",
    "    conn.close()\n",
    "\n",
    "    return df"
   ]
  },
  {
   "cell_type": "code",
   "execution_count": 19,
   "metadata": {},
   "outputs": [
    {
     "name": "stdout",
     "output_type": "stream",
     "text": [
      " * Serving Flask app '__main__'\n",
      " * Debug mode: off\n"
     ]
    },
    {
     "name": "stderr",
     "output_type": "stream",
     "text": [
      "WARNING: This is a development server. Do not use it in a production deployment. Use a production WSGI server instead.\n",
      " * Running on all addresses (0.0.0.0)\n",
      " * Running on http://127.0.0.1:5000\n",
      " * Running on http://192.168.1.3:5000\n",
      "Press CTRL+C to quit\n",
      "127.0.0.1 - - [29/Apr/2024 22:17:12] \"GET / HTTP/1.1\" 200 -\n",
      "127.0.0.1 - - [29/Apr/2024 22:17:16] \"GET /StockData/2024-03-20 HTTP/1.1\" 200 -\n"
     ]
    }
   ],
   "source": [
    "app = Flask(__name__)\n",
    "\n",
    "@app.route(\"/\",methods=['GET'])\n",
    "def index():\n",
    "    df = getAll()\n",
    "    return Response(df.to_json(orient=\"records\"), mimetype='application/json')\n",
    "\n",
    "@app.route(\"/AllSymbols\",methods=['GET'])\n",
    "def getSYMS():\n",
    "    df = showSymbols()\n",
    "    return Response(df.to_json(orient=\"records\"), mimetype='application/json')\n",
    "\n",
    "@app.route(\"/Symbol/<sym>\", methods=['GET'])\n",
    "def getSYM(sym):\n",
    "    df = getSymbol(sym)\n",
    "    return Response(df.to_json(orient=\"records\"), mimetype='application/json')\n",
    "\n",
    "@app.route(\"/StockData/<date_time>\", methods=['GET'])\n",
    "def getStockData(date_time):\n",
    "    df = get_stock_data(date_time)\n",
    "    return Response(df.to_json(orient=\"records\"), mimetype='application/json')\n",
    "\n",
    "if __name__==\"__main__\":\n",
    "    app.run(host=os.getenv('IP', '0.0.0.0'), \n",
    "            port=int(os.getenv('PORT', 5000)))"
   ]
  }
 ],
 "metadata": {
  "kernelspec": {
   "display_name": "Python 3",
   "language": "python",
   "name": "python3"
  },
  "language_info": {
   "codemirror_mode": {
    "name": "ipython",
    "version": 3
   },
   "file_extension": ".py",
   "mimetype": "text/x-python",
   "name": "python",
   "nbconvert_exporter": "python",
   "pygments_lexer": "ipython3",
   "version": "3.12.3"
  }
 },
 "nbformat": 4,
 "nbformat_minor": 2
}
